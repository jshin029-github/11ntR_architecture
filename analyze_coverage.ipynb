{
 "cells": [
  {
   "cell_type": "markdown",
   "id": "e0bfe70d",
   "metadata": {},
   "source": [
    "# Sequencing coverage analysis\n",
    "Copyright 2023 John Shin under GPL-3.0\n",
    "\n",
    "Supporting Figures come from this document."
   ]
  },
  {
   "cell_type": "code",
   "execution_count": 1,
   "id": "22d884a8",
   "metadata": {},
   "outputs": [],
   "source": [
    "import numpy as np\n",
    "import pandas as pd\n",
    "import matplotlib.pyplot as plt\n",
    "import seaborn as sns\n",
    "\n",
    "import os\n",
    "from tqdm import tqdm"
   ]
  },
  {
   "cell_type": "markdown",
   "id": "7ad3f740",
   "metadata": {},
   "source": [
    "Import some data"
   ]
  },
  {
   "cell_type": "code",
   "execution_count": 2,
   "id": "261f6c5a",
   "metadata": {},
   "outputs": [],
   "source": [
    "data_path = 'Data/'"
   ]
  },
  {
   "cell_type": "code",
   "execution_count": 3,
   "id": "91bb0ad2",
   "metadata": {},
   "outputs": [
    {
     "data": {
      "text/html": [
       "<div>\n",
       "<style scoped>\n",
       "    .dataframe tbody tr th:only-of-type {\n",
       "        vertical-align: middle;\n",
       "    }\n",
       "\n",
       "    .dataframe tbody tr th {\n",
       "        vertical-align: top;\n",
       "    }\n",
       "\n",
       "    .dataframe thead th {\n",
       "        text-align: right;\n",
       "    }\n",
       "</style>\n",
       "<table border=\"1\" class=\"dataframe\">\n",
       "  <thead>\n",
       "    <tr style=\"text-align: right;\">\n",
       "      <th></th>\n",
       "      <th></th>\n",
       "      <th>variant</th>\n",
       "    </tr>\n",
       "    <tr>\n",
       "      <th>seq</th>\n",
       "      <th>scaffold</th>\n",
       "      <th></th>\n",
       "    </tr>\n",
       "  </thead>\n",
       "  <tbody>\n",
       "    <tr>\n",
       "      <th rowspan=\"2\" valign=\"top\">UAUGG_CCUAAG</th>\n",
       "      <th>13854</th>\n",
       "      <td>21164</td>\n",
       "    </tr>\n",
       "    <tr>\n",
       "      <th>35600</th>\n",
       "      <td>27726</td>\n",
       "    </tr>\n",
       "  </tbody>\n",
       "</table>\n",
       "</div>"
      ],
      "text/plain": [
       "                       variant\n",
       "seq          scaffold         \n",
       "UAUGG_CCUAAG 13854       21164\n",
       "             35600       27726"
      ]
     },
     "execution_count": 3,
     "metadata": {},
     "output_type": "execute_result"
    }
   ],
   "source": [
    "wt_df = pd.read_pickle(data_path+'wt_df.pkl')\n",
    "wt_df.head(2)"
   ]
  },
  {
   "cell_type": "code",
   "execution_count": 4,
   "id": "695bf8a4",
   "metadata": {},
   "outputs": [
    {
     "data": {
      "text/html": [
       "<div>\n",
       "<style scoped>\n",
       "    .dataframe tbody tr th:only-of-type {\n",
       "        vertical-align: middle;\n",
       "    }\n",
       "\n",
       "    .dataframe tbody tr th {\n",
       "        vertical-align: top;\n",
       "    }\n",
       "\n",
       "    .dataframe thead th {\n",
       "        text-align: right;\n",
       "    }\n",
       "</style>\n",
       "<table border=\"1\" class=\"dataframe\">\n",
       "  <thead>\n",
       "    <tr style=\"text-align: right;\">\n",
       "      <th></th>\n",
       "      <th></th>\n",
       "      <th>mutations</th>\n",
       "      <th>mutation_reorder_loc</th>\n",
       "      <th>mutation_res</th>\n",
       "      <th>loc_res</th>\n",
       "      <th>variant</th>\n",
       "    </tr>\n",
       "    <tr>\n",
       "      <th>seq</th>\n",
       "      <th>scaffold</th>\n",
       "      <th></th>\n",
       "      <th></th>\n",
       "      <th></th>\n",
       "      <th></th>\n",
       "      <th></th>\n",
       "    </tr>\n",
       "  </thead>\n",
       "  <tbody>\n",
       "    <tr>\n",
       "      <th rowspan=\"2\" valign=\"top\">UAUGG_ACUAAG</th>\n",
       "      <th>13854</th>\n",
       "      <td>[0, 0, 0, 0, 0, 1, 0, 0, 0, 0, 0]</td>\n",
       "      <td>1</td>\n",
       "      <td>A</td>\n",
       "      <td>[1A]</td>\n",
       "      <td>21099</td>\n",
       "    </tr>\n",
       "    <tr>\n",
       "      <th>35600</th>\n",
       "      <td>[0, 0, 0, 0, 0, 1, 0, 0, 0, 0, 0]</td>\n",
       "      <td>1</td>\n",
       "      <td>A</td>\n",
       "      <td>[1A]</td>\n",
       "      <td>27661</td>\n",
       "    </tr>\n",
       "  </tbody>\n",
       "</table>\n",
       "</div>"
      ],
      "text/plain": [
       "                                               mutations  \\\n",
       "seq          scaffold                                      \n",
       "UAUGG_ACUAAG 13854     [0, 0, 0, 0, 0, 1, 0, 0, 0, 0, 0]   \n",
       "             35600     [0, 0, 0, 0, 0, 1, 0, 0, 0, 0, 0]   \n",
       "\n",
       "                       mutation_reorder_loc mutation_res loc_res variant  \n",
       "seq          scaffold                                                     \n",
       "UAUGG_ACUAAG 13854                        1            A    [1A]   21099  \n",
       "             35600                        1            A    [1A]   27661  "
      ]
     },
     "execution_count": 4,
     "metadata": {},
     "output_type": "execute_result"
    }
   ],
   "source": [
    "single_mutant_df = pd.read_pickle(data_path+'single_mutant_df.pkl')\n",
    "single_mutant_df.head(2)"
   ]
  },
  {
   "cell_type": "code",
   "execution_count": 5,
   "id": "19179033",
   "metadata": {
    "scrolled": true
   },
   "outputs": [
    {
     "data": {
      "text/html": [
       "<div>\n",
       "<style scoped>\n",
       "    .dataframe tbody tr th:only-of-type {\n",
       "        vertical-align: middle;\n",
       "    }\n",
       "\n",
       "    .dataframe tbody tr th {\n",
       "        vertical-align: top;\n",
       "    }\n",
       "\n",
       "    .dataframe thead th {\n",
       "        text-align: right;\n",
       "    }\n",
       "</style>\n",
       "<table border=\"1\" class=\"dataframe\">\n",
       "  <thead>\n",
       "    <tr style=\"text-align: right;\">\n",
       "      <th></th>\n",
       "      <th></th>\n",
       "      <th>mutations</th>\n",
       "      <th>mutation_reorder_loc</th>\n",
       "      <th>mutation_res</th>\n",
       "      <th>loc_res</th>\n",
       "      <th>first_mut</th>\n",
       "      <th>second_mut</th>\n",
       "      <th>first_mut_loc</th>\n",
       "      <th>second_mut_loc</th>\n",
       "      <th>variant</th>\n",
       "    </tr>\n",
       "    <tr>\n",
       "      <th></th>\n",
       "      <th>scaffold</th>\n",
       "      <th></th>\n",
       "      <th></th>\n",
       "      <th></th>\n",
       "      <th></th>\n",
       "      <th></th>\n",
       "      <th></th>\n",
       "      <th></th>\n",
       "      <th></th>\n",
       "      <th></th>\n",
       "    </tr>\n",
       "  </thead>\n",
       "  <tbody>\n",
       "    <tr>\n",
       "      <th rowspan=\"2\" valign=\"top\">UAUGG_AAUAAG</th>\n",
       "      <th>13854</th>\n",
       "      <td>[0, 0, 0, 0, 0, 1, 1, 0, 0, 0, 0]</td>\n",
       "      <td>[1, 2]</td>\n",
       "      <td>[A, A]</td>\n",
       "      <td>[1A, 2A]</td>\n",
       "      <td>A</td>\n",
       "      <td>A</td>\n",
       "      <td>1</td>\n",
       "      <td>2</td>\n",
       "      <td>21093</td>\n",
       "    </tr>\n",
       "    <tr>\n",
       "      <th>35600</th>\n",
       "      <td>[0, 0, 0, 0, 0, 1, 1, 0, 0, 0, 0]</td>\n",
       "      <td>[1, 2]</td>\n",
       "      <td>[A, A]</td>\n",
       "      <td>[1A, 2A]</td>\n",
       "      <td>A</td>\n",
       "      <td>A</td>\n",
       "      <td>1</td>\n",
       "      <td>2</td>\n",
       "      <td>27655</td>\n",
       "    </tr>\n",
       "  </tbody>\n",
       "</table>\n",
       "</div>"
      ],
      "text/plain": [
       "                                               mutations mutation_reorder_loc  \\\n",
       "             scaffold                                                           \n",
       "UAUGG_AAUAAG 13854     [0, 0, 0, 0, 0, 1, 1, 0, 0, 0, 0]               [1, 2]   \n",
       "             35600     [0, 0, 0, 0, 0, 1, 1, 0, 0, 0, 0]               [1, 2]   \n",
       "\n",
       "                      mutation_res   loc_res first_mut second_mut  \\\n",
       "             scaffold                                               \n",
       "UAUGG_AAUAAG 13854          [A, A]  [1A, 2A]         A          A   \n",
       "             35600          [A, A]  [1A, 2A]         A          A   \n",
       "\n",
       "                       first_mut_loc  second_mut_loc variant  \n",
       "             scaffold                                         \n",
       "UAUGG_AAUAAG 13854                 1               2   21093  \n",
       "             35600                 1               2   27655  "
      ]
     },
     "execution_count": 5,
     "metadata": {},
     "output_type": "execute_result"
    }
   ],
   "source": [
    "double_mutant_df = pd.read_pickle(data_path+'double_mutant_df.pkl')\n",
    "double_mutant_df.head(2)"
   ]
  },
  {
   "cell_type": "code",
   "execution_count": 6,
   "id": "33e69b4a",
   "metadata": {},
   "outputs": [],
   "source": [
    "single_mutant_df = single_mutant_df.rename(columns={\n",
    "    'mutation_reorder_loc':'first_loc',\n",
    "    'mutation_res':'first_res'\n",
    "})\n",
    "single_mutant_df['second_loc'] = None\n",
    "single_mutant_df['second_res'] = None\n",
    "\n",
    "double_mutant_df = double_mutant_df.rename(columns={\n",
    "    'first_mut_loc':'first_loc',\n",
    "    'first_mut':'first_res',\n",
    "    'second_mut_loc':'second_loc',\n",
    "    'second_mut':'second_res'\n",
    "})\n",
    "all_mut_df = pd.concat((wt_df,single_mutant_df,double_mutant_df))"
   ]
  },
  {
   "cell_type": "code",
   "execution_count": null,
   "id": "d71549bd",
   "metadata": {},
   "outputs": [],
   "source": []
  },
  {
   "cell_type": "code",
   "execution_count": 7,
   "id": "f2147500",
   "metadata": {},
   "outputs": [],
   "source": [
    "wt_variants = wt_df['variant']\n",
    "single_muts_variants = single_mutant_df['variant']\n",
    "double_muts_variants = double_mutant_df['variant']"
   ]
  },
  {
   "cell_type": "code",
   "execution_count": null,
   "id": "41784c96",
   "metadata": {},
   "outputs": [],
   "source": []
  },
  {
   "cell_type": "code",
   "execution_count": 21,
   "id": "8420f709",
   "metadata": {},
   "outputs": [],
   "source": [
    "dG_GAAA_wt_df = pd.read_pickle(data_path+'dGs/dG_GAAA_wt_df.pkl')\n",
    "dG_GAAA_single_df = pd.read_pickle(data_path+'dGs/dG_GAAA_single_df.pkl')\n",
    "dG_GAAA_double_df = pd.read_pickle(data_path+'dGs/dG_GAAA_double_df.pkl')\n",
    "\n",
    "dG_GUAA_wt_df = pd.read_pickle(data_path+'dGs/dG_GUAA_wt_df.pkl')\n",
    "dG_GUAA_single_df = pd.read_pickle(data_path+'dGs/dG_GUAA_single_df.pkl')\n",
    "dG_GUAA_double_df = pd.read_pickle(data_path+'dGs/dG_GUAA_double_df.pkl')"
   ]
  },
  {
   "cell_type": "markdown",
   "id": "114020fc",
   "metadata": {},
   "source": [
    "Cluster coverage for variants"
   ]
  },
  {
   "cell_type": "code",
   "execution_count": 8,
   "id": "908414d7",
   "metadata": {},
   "outputs": [],
   "source": [
    "GUAA_wt_df = wt_df.copy()\n",
    "GUAA_single_mutant_df = single_mutant_df.copy()\n",
    "GUAA_double_mutant_df = double_mutant_df.copy()"
   ]
  },
  {
   "cell_type": "code",
   "execution_count": 9,
   "id": "cdc357cc",
   "metadata": {},
   "outputs": [],
   "source": [
    "GUAA_CPvariant = pd.read_csv(data_path+'Mut2_GUAA_1_fmax.CPvariant',sep='\\t').rename(columns={'Unnamed: 0':'variant'})\n",
    "GUAA_CPvariant['variant'] = [str(int(i)) for i in GUAA_CPvariant['variant']]\n",
    "GUAA_CPvariant = GUAA_CPvariant.set_index('variant')\n",
    "new_GUAA_CPvariant = pd.read_csv(data_path+'missing_Mut2_GUAA_1_fmax.CPvariant',sep='\\t').rename(columns={'Unnamed: 0':'variant'})\n",
    "new_GUAA_CPvariant['variant'] = [str(int(i)) for i in new_GUAA_CPvariant['variant']]\n",
    "new_GUAA_CPvariant = new_GUAA_CPvariant.set_index('variant')\n"
   ]
  },
  {
   "cell_type": "code",
   "execution_count": 10,
   "id": "418918e9",
   "metadata": {},
   "outputs": [],
   "source": [
    "combined_GUAA_CPvariant = new_GUAA_CPvariant.T.join(GUAA_CPvariant.T,how='outer',rsuffix='duplicate')\n",
    "combined_GUAA_CPvariant = combined_GUAA_CPvariant.drop(combined_GUAA_CPvariant.filter(regex='duplicate').columns,axis=1)\n",
    "combined_GUAA_CPvariant = combined_GUAA_CPvariant.T\n",
    "combined_GUAA_CPvariant.index = combined_GUAA_CPvariant.index.astype(int)"
   ]
  },
  {
   "cell_type": "code",
   "execution_count": 11,
   "id": "cd9753fd",
   "metadata": {
    "scrolled": true
   },
   "outputs": [
    {
     "data": {
      "text/html": [
       "<div>\n",
       "<style scoped>\n",
       "    .dataframe tbody tr th:only-of-type {\n",
       "        vertical-align: middle;\n",
       "    }\n",
       "\n",
       "    .dataframe tbody tr th {\n",
       "        vertical-align: top;\n",
       "    }\n",
       "\n",
       "    .dataframe thead th {\n",
       "        text-align: right;\n",
       "    }\n",
       "</style>\n",
       "<table border=\"1\" class=\"dataframe\">\n",
       "  <thead>\n",
       "    <tr style=\"text-align: right;\">\n",
       "      <th></th>\n",
       "      <th>fmax_init</th>\n",
       "      <th>dG_init</th>\n",
       "      <th>fmin_init</th>\n",
       "      <th>rsq_init</th>\n",
       "      <th>rmse_init</th>\n",
       "      <th>dG</th>\n",
       "      <th>dG_lb</th>\n",
       "      <th>dG_ub</th>\n",
       "      <th>fmax</th>\n",
       "      <th>fmax_lb</th>\n",
       "      <th>fmax_ub</th>\n",
       "      <th>fmin</th>\n",
       "      <th>rsq</th>\n",
       "      <th>rmse</th>\n",
       "      <th>num_iter</th>\n",
       "      <th>num_tests</th>\n",
       "      <th>fmax_enforced</th>\n",
       "    </tr>\n",
       "    <tr>\n",
       "      <th>variant</th>\n",
       "      <th></th>\n",
       "      <th></th>\n",
       "      <th></th>\n",
       "      <th></th>\n",
       "      <th></th>\n",
       "      <th></th>\n",
       "      <th></th>\n",
       "      <th></th>\n",
       "      <th></th>\n",
       "      <th></th>\n",
       "      <th></th>\n",
       "      <th></th>\n",
       "      <th></th>\n",
       "      <th></th>\n",
       "      <th></th>\n",
       "      <th></th>\n",
       "      <th></th>\n",
       "    </tr>\n",
       "  </thead>\n",
       "  <tbody>\n",
       "  </tbody>\n",
       "</table>\n",
       "</div>"
      ],
      "text/plain": [
       "Empty DataFrame\n",
       "Columns: [fmax_init, dG_init, fmin_init, rsq_init, rmse_init, dG, dG_lb, dG_ub, fmax, fmax_lb, fmax_ub, fmin, rsq, rmse, num_iter, num_tests, fmax_enforced]\n",
       "Index: []"
      ]
     },
     "execution_count": 11,
     "metadata": {},
     "output_type": "execute_result"
    }
   ],
   "source": [
    "combined_GUAA_CPvariant.query('num_iter < 10000 & num_tests > 5')"
   ]
  },
  {
   "cell_type": "code",
   "execution_count": 12,
   "id": "952a4d0d",
   "metadata": {},
   "outputs": [],
   "source": [
    "all_GUAA_df = all_mut_df.join(combined_GUAA_CPvariant[['num_tests']],on='variant')"
   ]
  },
  {
   "cell_type": "code",
   "execution_count": 13,
   "id": "f3e2067c",
   "metadata": {},
   "outputs": [
    {
     "data": {
      "image/png": "[encoded data removed]",
      "text/plain": [
       "<Figure size 288x288 with 1 Axes>"
      ]
     },
     "metadata": {
      "needs_background": "light"
     },
     "output_type": "display_data"
    }
   ],
   "source": [
    "temp = all_GUAA_df['num_tests'].fillna(0)\n",
    "\n",
    "fig,ax = plt.subplots(figsize=(4,4))\n",
    "\n",
    "sns.histplot(temp,bins='doane',element='step',ax=ax,color='tab:orange')\n",
    "ax.axvline(5,color='k',linestyle='--',label='n = 5')\n",
    "ax.axvline(np.mean(temp),color='k',label='Mean Clusters')\n",
    "\n",
    "ax.text(45,350,f\"{sum(temp>0)} total variants\\n\"+\\\n",
    "               f\"{sum(temp>5)} variants with >5 clusters\\n\"+\\\n",
    "               f\"{np.mean(temp):.1f} average number of clusters\",\n",
    "        bbox={'boxstyle':'round','facecolor':'white','pad':1},fontsize=8)\n",
    "\n",
    "ax.set_ylabel('Count',fontsize=14)\n",
    "ax.set_xlabel('Number of Clusters',fontsize=14)\n",
    "ax.set_title('Clusters per Variant for GUAA',fontsize=16)\n",
    "\n",
    "plt.tight_layout()\n",
    "plt.savefig('Figures/Supplement/Clusters_per_Variant_GUAA.png',facecolor='white',dpi=600)\n",
    "\n",
    "plt.show()"
   ]
  },
  {
   "cell_type": "code",
   "execution_count": null,
   "id": "ea961f54",
   "metadata": {},
   "outputs": [],
   "source": []
  },
  {
   "cell_type": "code",
   "execution_count": null,
   "id": "2927e1de",
   "metadata": {},
   "outputs": [],
   "source": []
  },
  {
   "cell_type": "code",
   "execution_count": null,
   "id": "8e0bb298",
   "metadata": {},
   "outputs": [],
   "source": []
  },
  {
   "cell_type": "code",
   "execution_count": 15,
   "id": "095e0ad3",
   "metadata": {},
   "outputs": [],
   "source": [
    "GAAA_wt_df = wt_df.copy()\n",
    "GAAA_single_mutant_df = single_mutant_df.copy()\n",
    "GAAA_double_mutant_df = double_mutant_df.copy()"
   ]
  },
  {
   "cell_type": "code",
   "execution_count": 16,
   "id": "f8f1073e",
   "metadata": {},
   "outputs": [],
   "source": [
    "GAAA_1_CPvariant = pd.read_csv(data_path+'Mut2_GAAA_1_fmax.CPvariant',sep='\\t').rename(columns={'Unnamed: 0':'variant'})\n",
    "GAAA_1_CPvariant['variant'] = [str(int(i)) for i in GAAA_1_CPvariant['variant']]\n",
    "GAAA_1_CPvariant = GAAA_1_CPvariant.set_index('variant')\n",
    "new_GAAA_1_CPvariant = pd.read_csv(data_path+'missing_Mut2_GAAA_1_fmax.CPvariant',sep='\\t').rename(columns={'Unnamed: 0':'variant'})\n",
    "new_GAAA_1_CPvariant['variant'] = [str(int(i)) for i in new_GAAA_1_CPvariant['variant']]\n",
    "new_GAAA_1_CPvariant = new_GAAA_1_CPvariant.set_index('variant')\n",
    "\n",
    "GAAA_2_CPvariant = pd.read_csv(data_path+'Mut2_GAAA_2_fmax.CPvariant',sep='\\t').rename(columns={'Unnamed: 0':'variant'})\n",
    "GAAA_2_CPvariant['variant'] = [str(int(i)) for i in GAAA_2_CPvariant['variant']]\n",
    "GAAA_2_CPvariant = GAAA_2_CPvariant.set_index('variant')\n",
    "new_GAAA_2_CPvariant = pd.read_csv(data_path+'missing_Mut2_GAAA_2_fmax.CPvariant',sep='\\t').rename(columns={'Unnamed: 0':'variant'})\n",
    "new_GAAA_2_CPvariant['variant'] = [str(int(i)) for i in new_GAAA_2_CPvariant['variant']]\n",
    "new_GAAA_2_CPvariant = new_GAAA_2_CPvariant.set_index('variant')\n"
   ]
  },
  {
   "cell_type": "code",
   "execution_count": 17,
   "id": "db6789a4",
   "metadata": {},
   "outputs": [],
   "source": [
    "combined_GAAA_1_CPvariant = new_GAAA_1_CPvariant.T.join(GAAA_1_CPvariant.T,how='outer',rsuffix='duplicate')\n",
    "combined_GAAA_1_CPvariant = combined_GAAA_1_CPvariant.drop(combined_GAAA_1_CPvariant.filter(regex='duplicate').columns,axis=1)\n",
    "combined_GAAA_1_CPvariant = combined_GAAA_1_CPvariant.T\n",
    "combined_GAAA_1_CPvariant.index = combined_GAAA_1_CPvariant.index.astype(int)\n",
    "\n",
    "combined_GAAA_2_CPvariant = new_GAAA_2_CPvariant.T.join(GAAA_2_CPvariant.T,how='outer',rsuffix='duplicate')\n",
    "combined_GAAA_2_CPvariant = combined_GAAA_2_CPvariant.drop(combined_GAAA_2_CPvariant.filter(regex='duplicate').columns,axis=1)\n",
    "combined_GAAA_2_CPvariant = combined_GAAA_2_CPvariant.T\n",
    "combined_GAAA_2_CPvariant.index = combined_GAAA_2_CPvariant.index.astype(int)"
   ]
  },
  {
   "cell_type": "code",
   "execution_count": 18,
   "id": "7da872fd",
   "metadata": {},
   "outputs": [],
   "source": [
    "all_GAAA_1_df = all_mut_df.join(combined_GAAA_1_CPvariant[['num_tests']],on='variant')\n",
    "all_GAAA_2_df = all_mut_df.join(combined_GAAA_2_CPvariant[['num_tests']],on='variant')"
   ]
  },
  {
   "cell_type": "code",
   "execution_count": null,
   "id": "fff81e41",
   "metadata": {},
   "outputs": [],
   "source": []
  },
  {
   "cell_type": "code",
   "execution_count": 19,
   "id": "3b17392b",
   "metadata": {},
   "outputs": [
    {
     "data": {
      "image/png": "[encoded data removed]",
      "text/plain": [
       "<Figure size 288x288 with 1 Axes>"
      ]
     },
     "metadata": {
      "needs_background": "light"
     },
     "output_type": "display_data"
    }
   ],
   "source": [
    "temp = all_GAAA_1_df['num_tests'].fillna(0)+all_GAAA_2_df['num_tests'].fillna(0)\n",
    "\n",
    "fig,ax = plt.subplots(figsize=(4,4))\n",
    "\n",
    "sns.histplot(temp,bins='fd',element='step',ax=ax,color='tab:blue')\n",
    "ax.axvline(5,color='k',linestyle='--')\n",
    "ax.axvline(np.mean(temp),color='k')\n",
    "\n",
    "ax.text(90,200,f\"{sum(temp>0)} total variants\\n\"+\\\n",
    "               f\"{sum(temp>5)} variants with >5 clusters\\n\"+\\\n",
    "               f\"{np.mean(temp):.1f} average number of clusters\",\n",
    "        bbox={'boxstyle':'round','facecolor':'white','pad':1},fontsize=8)\n",
    "\n",
    "ax.set_ylabel('Count',fontsize=14)\n",
    "ax.set_xlabel('Number of Clusters',fontsize=14)\n",
    "ax.set_title('Clusters per Variant for GAAA',fontsize=16)\n",
    "\n",
    "plt.tight_layout()\n",
    "\n",
    "plt.savefig('Figures/Supplement/Clusters_per_Variant_GAAA.png',facecolor='white',dpi=600)\n",
    "\n",
    "plt.show()"
   ]
  },
  {
   "cell_type": "code",
   "execution_count": null,
   "id": "214c33b4",
   "metadata": {},
   "outputs": [],
   "source": []
  },
  {
   "cell_type": "markdown",
   "id": "e21ac8ae",
   "metadata": {},
   "source": [
    "Scaffold Coverage for variants"
   ]
  },
  {
   "cell_type": "code",
   "execution_count": 22,
   "id": "47aeb685",
   "metadata": {},
   "outputs": [],
   "source": [
    "combined_GAAA_data = pd.concat([\n",
    "    dG_GAAA_wt_df.pivot_table(index='seq',columns=['scaffold'],values='dG'),\n",
    "    dG_GAAA_single_df.pivot_table(index='seq',columns=['scaffold'],values='dG'),\n",
    "    dG_GAAA_double_df.pivot_table(index='seq',columns=['scaffold'],values='dG')])"
   ]
  },
  {
   "cell_type": "code",
   "execution_count": 23,
   "id": "055dc07b",
   "metadata": {},
   "outputs": [],
   "source": [
    "combined_GUAA_data = pd.concat([\n",
    "    dG_GUAA_wt_df.pivot_table(index='seq',columns=['scaffold'],values='dG'),\n",
    "    dG_GUAA_single_df.pivot_table(index='seq',columns=['scaffold'],values='dG'),\n",
    "    dG_GUAA_double_df.pivot_table(index='seq',columns=['scaffold'],values='dG')])"
   ]
  },
  {
   "cell_type": "code",
   "execution_count": 24,
   "id": "92abd0df",
   "metadata": {},
   "outputs": [
    {
     "data": {
      "text/html": [
       "<div>\n",
       "<style scoped>\n",
       "    .dataframe tbody tr th:only-of-type {\n",
       "        vertical-align: middle;\n",
       "    }\n",
       "\n",
       "    .dataframe tbody tr th {\n",
       "        vertical-align: top;\n",
       "    }\n",
       "\n",
       "    .dataframe thead th {\n",
       "        text-align: right;\n",
       "    }\n",
       "</style>\n",
       "<table border=\"1\" class=\"dataframe\">\n",
       "  <thead>\n",
       "    <tr style=\"text-align: right;\">\n",
       "      <th></th>\n",
       "      <th>variable</th>\n",
       "      <th>value</th>\n",
       "      <th>0</th>\n",
       "    </tr>\n",
       "  </thead>\n",
       "  <tbody>\n",
       "    <tr>\n",
       "      <th>0</th>\n",
       "      <td>GAAA</td>\n",
       "      <td>5</td>\n",
       "      <td>423</td>\n",
       "    </tr>\n",
       "    <tr>\n",
       "      <th>1</th>\n",
       "      <td>GUAA</td>\n",
       "      <td>5</td>\n",
       "      <td>417</td>\n",
       "    </tr>\n",
       "    <tr>\n",
       "      <th>2</th>\n",
       "      <td>GUAA</td>\n",
       "      <td>4</td>\n",
       "      <td>77</td>\n",
       "    </tr>\n",
       "    <tr>\n",
       "      <th>3</th>\n",
       "      <td>GAAA</td>\n",
       "      <td>4</td>\n",
       "      <td>73</td>\n",
       "    </tr>\n",
       "    <tr>\n",
       "      <th>4</th>\n",
       "      <td>GAAA</td>\n",
       "      <td>3</td>\n",
       "      <td>28</td>\n",
       "    </tr>\n",
       "    <tr>\n",
       "      <th>5</th>\n",
       "      <td>GUAA</td>\n",
       "      <td>3</td>\n",
       "      <td>28</td>\n",
       "    </tr>\n",
       "    <tr>\n",
       "      <th>6</th>\n",
       "      <td>GUAA</td>\n",
       "      <td>2</td>\n",
       "      <td>5</td>\n",
       "    </tr>\n",
       "    <tr>\n",
       "      <th>7</th>\n",
       "      <td>GAAA</td>\n",
       "      <td>2</td>\n",
       "      <td>4</td>\n",
       "    </tr>\n",
       "    <tr>\n",
       "      <th>8</th>\n",
       "      <td>GUAA</td>\n",
       "      <td>1</td>\n",
       "      <td>2</td>\n",
       "    </tr>\n",
       "    <tr>\n",
       "      <th>9</th>\n",
       "      <td>GAAA</td>\n",
       "      <td>1</td>\n",
       "      <td>1</td>\n",
       "    </tr>\n",
       "  </tbody>\n",
       "</table>\n",
       "</div>"
      ],
      "text/plain": [
       "  variable  value    0\n",
       "0     GAAA      5  423\n",
       "1     GUAA      5  417\n",
       "2     GUAA      4   77\n",
       "3     GAAA      4   73\n",
       "4     GAAA      3   28\n",
       "5     GUAA      3   28\n",
       "6     GUAA      2    5\n",
       "7     GAAA      2    4\n",
       "8     GUAA      1    2\n",
       "9     GAAA      1    1"
      ]
     },
     "execution_count": 24,
     "metadata": {},
     "output_type": "execute_result"
    }
   ],
   "source": [
    "pd.DataFrame({'GAAA':np.sum(~combined_GAAA_data.isna(),axis=1),\n",
    "              'GUAA':np.sum(~combined_GUAA_data.isna(),axis=1)\n",
    "              }).melt().value_counts().reset_index()"
   ]
  },
  {
   "cell_type": "code",
   "execution_count": 25,
   "id": "1b1df2df",
   "metadata": {},
   "outputs": [
    {
     "data": {
      "image/png": "[encoded data removed]",
      "text/plain": [
       "<Figure size 288x288 with 1 Axes>"
      ]
     },
     "metadata": {
      "needs_background": "light"
     },
     "output_type": "display_data"
    },
    {
     "data": {
      "text/plain": [
       "5    79.962193\n",
       "4    13.799622\n",
       "3     5.293006\n",
       "2     0.756144\n",
       "1     0.189036\n",
       "dtype: float64"
      ]
     },
     "metadata": {},
     "output_type": "display_data"
    },
    {
     "data": {
      "text/plain": [
       "5    78.827977\n",
       "4    14.555766\n",
       "3     5.293006\n",
       "2     0.945180\n",
       "1     0.378072\n",
       "dtype: float64"
      ]
     },
     "metadata": {},
     "output_type": "display_data"
    }
   ],
   "source": [
    "fig,ax=plt.subplots(figsize=(4,4))\n",
    "\n",
    "sns.barplot(data=pd.DataFrame({\n",
    "                        'GAAA':np.sum(~combined_GAAA_data.isna(),axis=1),\n",
    "                        'GUAA':np.sum(~combined_GUAA_data.isna(),axis=1)\n",
    "                        }).melt().value_counts().reset_index().rename(columns={\n",
    "                        'value':'No. Scaffolds','variable':'TL',0:'Count'\n",
    "            }),\n",
    "           x='No. Scaffolds',y='Count',hue='TL')\n",
    "\n",
    "plt.title('Fit $\\Delta$G$_{bind}$ Values\\n',fontsize=16)\n",
    "plt.xlabel(plt.gca().get_xlabel(),fontsize=14)\n",
    "plt.ylabel(plt.gca().get_ylabel(),fontsize=14)\n",
    "\n",
    "ax.bar_label(ax.containers[1], fmt='%.0f', label_type='edge',fontsize=8)\n",
    "ax.bar_label(ax.containers[0], fmt='%.0f', label_type='edge',fontsize=8)\n",
    "\n",
    "ax.set_ylim((0,480))\n",
    "\n",
    "plt.tight_layout()\n",
    "plt.savefig('Figures/Supplement/Measured_Scaffolds_per_Variant.png',facecolor='white',dpi=600)\n",
    "plt.show()\n",
    "\n",
    "\n",
    "display(np.sum(~combined_GAAA_data.isna(),axis=1).value_counts()/529*100)\n",
    "display(np.sum(~combined_GUAA_data.isna(),axis=1).value_counts()/529*100)\n"
   ]
  },
  {
   "cell_type": "code",
   "execution_count": 26,
   "id": "e42a84af",
   "metadata": {},
   "outputs": [
    {
     "data": {
      "image/png": "[encoded data removed]",
      "text/plain": [
       "<Figure size 288x288 with 1 Axes>"
      ]
     },
     "metadata": {
      "needs_background": "light"
     },
     "output_type": "display_data"
    },
    {
     "data": {
      "text/plain": [
       "5    28.544423\n",
       "4    15.500945\n",
       "3    11.531191\n",
       "2    11.153119\n",
       "1    10.964083\n",
       "0    22.306238\n",
       "dtype: float64"
      ]
     },
     "metadata": {},
     "output_type": "display_data"
    },
    {
     "data": {
      "text/plain": [
       "5    13.799622\n",
       "4    16.635161\n",
       "3    14.555766\n",
       "2    12.854442\n",
       "1    17.202268\n",
       "0    24.952741\n",
       "dtype: float64"
      ]
     },
     "metadata": {},
     "output_type": "display_data"
    }
   ],
   "source": [
    "fig,ax=plt.subplots(figsize=(4,4))\n",
    "\n",
    "\n",
    "sns.barplot(data=pd.DataFrame({\n",
    "                        'GAAA':np.sum(combined_GAAA_data<-7.1,axis=1),\n",
    "                        'GUAA':np.sum(combined_GUAA_data<-7.1,axis=1)\n",
    "                        }).melt().value_counts().reset_index().rename(columns={\n",
    "                        'value':'No. Scaffolds','variable':'TL',0:'Count'\n",
    "            }),\n",
    "           x='No. Scaffolds',y='Count',hue='TL')\n",
    "plt.title('Measurable $\\Delta$G$_{bind}$ Values\\n',fontsize=16)\n",
    "\n",
    "plt.xlabel(plt.gca().get_xlabel(),fontsize=14)\n",
    "plt.ylabel(plt.gca().get_ylabel(),fontsize=14)\n",
    "\n",
    "\n",
    "ax.bar_label(ax.containers[1], fmt='%.0f', label_type='edge',fontsize=8)\n",
    "ax.bar_label(ax.containers[0], fmt='%.0f', label_type='edge',fontsize=8)\n",
    "\n",
    "ax.set_ylim((0,175))\n",
    "\n",
    "# ax.legend(loc='upper center')\n",
    "\n",
    "plt.tight_layout()\n",
    "plt.savefig('Figures/Supplement/Quantitative_Scaffolds_per_Variant.png',facecolor='white',dpi=600)\n",
    "plt.show()\n",
    "\n",
    "\n",
    "plt.show()\n",
    "\n",
    "\n",
    "\n",
    "display(np.sum(combined_GAAA_data<-7.1,axis=1).value_counts().sort_index(ascending=False)/529*100)\n",
    "display(np.sum(combined_GUAA_data<-7.1,axis=1).value_counts().sort_index(ascending=False)/529*100)\n"
   ]
  },
  {
   "cell_type": "code",
   "execution_count": null,
   "id": "c2066e5f",
   "metadata": {},
   "outputs": [],
   "source": []
  }
 ],
 "metadata": {
  "kernelspec": {
   "display_name": "Python 3 (ipykernel)",
   "language": "python",
   "name": "python3"
  },
  "language_info": {
   "codemirror_mode": {
    "name": "ipython",
    "version": 3
   },
   "file_extension": ".py",
   "mimetype": "text/x-python",
   "name": "python",
   "nbconvert_exporter": "python",
   "pygments_lexer": "ipython3",
   "version": "3.8.12"
  }
 },
 "nbformat": 4,
 "nbformat_minor": 5
}
