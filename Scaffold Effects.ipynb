{
 "cells": [
  {
   "cell_type": "markdown",
   "id": "7f28445a",
   "metadata": {},
   "source": [
    "# Assess thermodynamic fingerprints of 11ntR variants\n",
    "Copyright 2023 John Shin under GPL-3.0\n",
    "\n",
    "Supporting Figures come from this document."
   ]
  },
  {
   "cell_type": "code",
   "execution_count": 1,
   "id": "4e453803",
   "metadata": {},
   "outputs": [],
   "source": [
    "import numpy as np\n",
    "import pandas as pd\n",
    "import matplotlib.pyplot as plt\n",
    "import matplotlib.patches as mpatches\n",
    "import matplotlib.cm as mcm\n",
    "import matplotlib.colors as mcolors\n",
    "from matplotlib.transforms import Bbox\n",
    "import matplotlib.markers as mmarkers\n",
    "from matplotlib.gridspec import GridSpec\n",
    "import seaborn as sns\n",
    "\n",
    "from tqdm import tqdm\n",
    "import re\n",
    "\n",
    "import networkx as nx\n",
    "\n",
    "from statsmodels.stats import multitest"
   ]
  },
  {
   "cell_type": "code",
   "execution_count": 2,
   "id": "761e5125",
   "metadata": {},
   "outputs": [],
   "source": [
    "def displayAllRows(df):\n",
    "    pd.set_option('display.max_rows', None)\n",
    "    display(df)\n",
    "    pd.reset_option('max_rows')\n",
    "    \n",
    "def displayAllCols(df):\n",
    "    pd.set_option('display.max_columns', None)\n",
    "    display(df)\n",
    "    pd.reset_option('max_columns')\n",
    "    \n",
    "def displayAllIndex(df):\n",
    "    pd.set_option('display.multi_sparse', False)\n",
    "    display(df)\n",
    "    pd.reset_option('display.multi_sparse')\n",
    "    \n",
    "    \n",
    "def revDict(d):\n",
    "    return {v: k for k, v in d.items()}"
   ]
  },
  {
   "cell_type": "code",
   "execution_count": 3,
   "id": "22a831e5",
   "metadata": {},
   "outputs": [],
   "source": [
    "def subtractWt(df,wt_df):\n",
    "    '''subtracts the wt_df from df by scaffold'''\n",
    "    \n",
    "    bs_cols = [f\"bs_{i}\" for i in range(10000)]\n",
    "    \n",
    "    sub_df = df.copy()\n",
    "    sub_df[bs_cols] = np.subtract(sub_df[bs_cols],np.tile(wt_df[bs_cols],(len(sub_df)//5,1)))\n",
    "    \n",
    "    return sub_df"
   ]
  },
  {
   "cell_type": "code",
   "execution_count": 4,
   "id": "0f10e30a",
   "metadata": {},
   "outputs": [],
   "source": [
    "def subtractdfs(df1,df2):\n",
    "    '''subtracts df2 from df1 by index'''\n",
    "    \n",
    "    bs_cols = [f\"bs_{i}\" for i in range(10000)]\n",
    "    \n",
    "    sub_df = df1.copy()\n",
    "    sub_df[bs_cols] = np.subtract(sub_df[bs_cols],df2[bs_cols])\n",
    "    \n",
    "    return sub_df"
   ]
  },
  {
   "cell_type": "code",
   "execution_count": 5,
   "id": "91cbfb85",
   "metadata": {},
   "outputs": [],
   "source": [
    "def findPercentiles(df,p=[0.5,0.025,0.975],p_names=['dG','dG_lb','dG_ub']):\n",
    "    '''extracts the p percentile value from bs df'''\n",
    "    \n",
    "    bs_cols = [f\"bs_{i}\" for i in range(10000)]\n",
    "    \n",
    "    out_df = pd.DataFrame(index=df.index)\n",
    "    out_df[p_names] = df[bs_cols].quantile(q=p,axis=1).T\n",
    "    \n",
    "    return out_df"
   ]
  },
  {
   "cell_type": "code",
   "execution_count": 6,
   "id": "19b364cf",
   "metadata": {},
   "outputs": [],
   "source": [
    "def replaceLimits(df,limits):\n",
    "    \n",
    "    out_df = df.copy()\n",
    "    \n",
    "    bs_cols = [f\"bs_{i}\" for i in range(10000)]\n",
    "       \n",
    "    out_df.loc[limits[limits].index,bs_cols] = -7.1\n",
    "    \n",
    "    return out_df"
   ]
  },
  {
   "cell_type": "code",
   "execution_count": 7,
   "id": "d0fdc0c2",
   "metadata": {},
   "outputs": [],
   "source": [
    "def findPercentilesOverScaffolds(df,p=[0.5,0.025,0.975],p_names=['dG','dG_lb','dG_ub']):\n",
    "    '''extracts the p percentile value from bs df'''\n",
    "    \n",
    "    bs_cols = [f\"bs_{i}\" for i in range(10000)]\n",
    "    \n",
    "    out_df = pd.DataFrame(index=df.index.levels[0])\n",
    "    \n",
    "    g = df[bs_cols].groupby(\n",
    "        'seq').agg(\n",
    "        np.nanmean).quantile(\n",
    "        q=p,axis=1).T.rename(\n",
    "        columns={k:v for k,v in zip(p,p_names)})\n",
    "    \n",
    "    out_df = out_df.join(g)\n",
    "    \n",
    "    return out_df"
   ]
  },
  {
   "cell_type": "code",
   "execution_count": 8,
   "id": "d0cdf350",
   "metadata": {},
   "outputs": [],
   "source": [
    "def adj_pvals(df,p_col='p_val',a_col='adj_p_val',method='fdr_bh'):\n",
    "    \n",
    "    out_df = df.copy()\n",
    "    temp_pvals = out_df[p_col]\n",
    "    temp_corr_pvals = temp_pvals.copy()\n",
    "    print(sum(~np.isnan(temp_pvals)),'p-values')\n",
    "    _,temp_corr_pvals[~np.isnan(temp_pvals)],_,_ = multitest.multipletests(\n",
    "        temp_pvals[~np.isnan(temp_pvals)],method=method)\n",
    "    out_df[a_col] = temp_corr_pvals\n",
    "    \n",
    "    return out_df"
   ]
  },
  {
   "cell_type": "code",
   "execution_count": 9,
   "id": "87772911",
   "metadata": {},
   "outputs": [],
   "source": [
    "nuc_palette = {'A':'tab:blue',\n",
    "               'U':'tab:orange',\n",
    "               'G':'tab:green',\n",
    "               'C':'tab:red'}"
   ]
  },
  {
   "cell_type": "markdown",
   "id": "18092807",
   "metadata": {},
   "source": [
    "# Import Data\n",
    "\n",
    "Data with all the bootstrapped info"
   ]
  },
  {
   "cell_type": "code",
   "execution_count": 10,
   "id": "d2bcb528",
   "metadata": {},
   "outputs": [],
   "source": [
    "GAAA_wt_bs_df = pd.read_pickle('data/GAAA_wt_df.pkl')\n",
    "GAAA_single_bs_df = pd.read_pickle('data/GAAA_single_df.pkl')\n",
    "GAAA_double_bs_df = pd.read_pickle('data/GAAA_double_df.pkl')\n",
    "GAAA_double_bs_df.index.names = ['seq','scaffold']"
   ]
  },
  {
   "cell_type": "code",
   "execution_count": 11,
   "id": "fb19f595",
   "metadata": {},
   "outputs": [],
   "source": [
    "GUAA_wt_bs_df = pd.read_pickle('data/GUAA_wt_df.pkl')\n",
    "GUAA_single_bs_df = pd.read_pickle('data/GUAA_single_df.pkl')\n",
    "GUAA_double_bs_df = pd.read_pickle('data/GUAA_double_df.pkl')\n",
    "GUAA_double_bs_df.index.names = ['seq','scaffold']"
   ]
  },
  {
   "cell_type": "markdown",
   "id": "737ca5aa",
   "metadata": {},
   "source": [
    "Metadata"
   ]
  },
  {
   "cell_type": "code",
   "execution_count": 12,
   "id": "28cca65c",
   "metadata": {},
   "outputs": [],
   "source": [
    "sequence_11ntRwt = GUAA_wt_bs_df.index[0][0]\n",
    "mutation_dict_11ntR = {\n",
    "    0:7, 1:8, 2:9, 3:10, 4:11, 5:1, 6:2, 7:3, 8:4, 9:5, 10:6, \n",
    "}\n",
    "layout_11ntR = {\n",
    "    1:[5,10],\n",
    "    2:[6,8],\n",
    "    3:[5.5,6],\n",
    "    4:[3,4],\n",
    "    5:[6,4],\n",
    "    6:[5,2],\n",
    "    7:[2,2],\n",
    "    8:[2.5,6],\n",
    "    9:[1,7],\n",
    "    10:[3,8],\n",
    "    11:[2,10]\n",
    "}\n",
    "base_pairs_11ntR = [[11,1],[10,2],[9,0],[8,3],[4,5],[7,6]]\n",
    "base_pair_plot_dict = {\n",
    "    1:1,11:1,\n",
    "    2:2,10:2,\n",
    "    9:3,\n",
    "    3:4,8:4,\n",
    "    4:5,5:5,\n",
    "    6:6,7:6\n",
    "}"
   ]
  },
  {
   "cell_type": "code",
   "execution_count": 13,
   "id": "6f26208e",
   "metadata": {},
   "outputs": [],
   "source": [
    "wt_meta_df = GAAA_wt_bs_df[[]].copy()\n",
    "single_meta_df = GAAA_single_bs_df[['first_loc','first_res','second_loc','second_res']].copy()\n",
    "double_meta_df = GAAA_double_bs_df[['first_loc','first_res','second_loc','second_res']].copy()"
   ]
  },
  {
   "cell_type": "code",
   "execution_count": 14,
   "id": "b555f30c",
   "metadata": {},
   "outputs": [],
   "source": [
    "# single_meta_df.to_pickle('data/single_meta.pkl')\n",
    "# double_meta_df.to_pickle('data/double_meta.pkl')"
   ]
  },
  {
   "cell_type": "code",
   "execution_count": null,
   "id": "7fe5f295",
   "metadata": {},
   "outputs": [],
   "source": []
  },
  {
   "cell_type": "code",
   "execution_count": null,
   "id": "190b4690",
   "metadata": {},
   "outputs": [],
   "source": []
  },
  {
   "cell_type": "markdown",
   "id": "feeeb3d1",
   "metadata": {},
   "source": [
    "Median and ci data"
   ]
  },
  {
   "cell_type": "code",
   "execution_count": 15,
   "id": "8a7f93d6",
   "metadata": {},
   "outputs": [],
   "source": [
    "dG_GAAA_wt_df = findPercentiles(GAAA_wt_bs_df)\n",
    "dG_GAAA_single_df = pd.concat((single_meta_df,findPercentiles(GAAA_single_bs_df)),axis=1)\n",
    "dG_GAAA_double_df = pd.concat((double_meta_df,findPercentiles(GAAA_double_bs_df)),axis=1)"
   ]
  },
  {
   "cell_type": "code",
   "execution_count": 16,
   "id": "1c5faf8a",
   "metadata": {},
   "outputs": [],
   "source": [
    "dG_GUAA_wt_df = findPercentiles(GUAA_wt_bs_df)\n",
    "dG_GUAA_single_df = pd.concat((single_meta_df,findPercentiles(GUAA_single_bs_df)),axis=1)\n",
    "dG_GUAA_double_df = pd.concat((double_meta_df,findPercentiles(GUAA_double_bs_df)),axis=1)"
   ]
  },
  {
   "cell_type": "code",
   "execution_count": null,
   "id": "83651f09",
   "metadata": {},
   "outputs": [],
   "source": []
  },
  {
   "cell_type": "code",
   "execution_count": 17,
   "id": "865f02eb",
   "metadata": {},
   "outputs": [],
   "source": [
    "for df in [dG_GAAA_wt_df,dG_GAAA_single_df,dG_GAAA_double_df,\n",
    "           dG_GUAA_wt_df,dG_GUAA_single_df,dG_GUAA_double_df]:\n",
    "    df['limit'] = df['dG'] >= -7.1\n",
    "    df.loc[df['limit'],'dG'] = -7.1"
   ]
  },
  {
   "cell_type": "code",
   "execution_count": null,
   "id": "f98d5638",
   "metadata": {},
   "outputs": [],
   "source": []
  },
  {
   "cell_type": "code",
   "execution_count": 18,
   "id": "fd3c0ebd",
   "metadata": {},
   "outputs": [],
   "source": [
    "GAAA_ddG_limit = -7.1 - np.mean(dG_GAAA_wt_df['dG'])\n",
    "GUAA_ddG_limit = -7.1 - np.mean(dG_GUAA_wt_df['dG'])"
   ]
  },
  {
   "cell_type": "code",
   "execution_count": null,
   "id": "c14e241c",
   "metadata": {},
   "outputs": [],
   "source": []
  },
  {
   "cell_type": "code",
   "execution_count": 19,
   "id": "758ed7f9",
   "metadata": {},
   "outputs": [],
   "source": [
    "avg_dG_GAAA_wt_df = findPercentilesOverScaffolds(GAAA_wt_bs_df)\n",
    "\n",
    "avg_dG_GAAA_single_df = pd.concat((single_meta_df.groupby('seq').first(),\n",
    "                                findPercentilesOverScaffolds(\n",
    "                                    replaceLimits(\n",
    "                                        GAAA_single_bs_df,\n",
    "                                        limits=dG_GAAA_single_df['limit']\n",
    "                                    )\n",
    "                                )),axis=1)\n",
    "\n",
    "avg_dG_GAAA_double_df = pd.concat((double_meta_df.groupby('seq').first(),\n",
    "                                findPercentilesOverScaffolds(\n",
    "                                    replaceLimits(\n",
    "                                        GAAA_double_bs_df,\n",
    "                                        limits=dG_GAAA_double_df['limit']\n",
    "                                    )\n",
    "                                )),axis=1)"
   ]
  },
  {
   "cell_type": "code",
   "execution_count": 20,
   "id": "6cc8abeb",
   "metadata": {},
   "outputs": [],
   "source": [
    "avg_dG_GUAA_wt_df = findPercentilesOverScaffolds(GUAA_wt_bs_df)\n",
    "\n",
    "avg_dG_GUAA_single_df = pd.concat((single_meta_df.groupby('seq').first(),\n",
    "                                findPercentilesOverScaffolds(\n",
    "                                    replaceLimits(\n",
    "                                        GUAA_single_bs_df,\n",
    "                                        limits=dG_GUAA_single_df['limit']\n",
    "                                    )\n",
    "                                )),axis=1)\n",
    "\n",
    "avg_dG_GUAA_double_df = pd.concat((double_meta_df.groupby('seq').first(),\n",
    "                                findPercentilesOverScaffolds(\n",
    "                                    replaceLimits(\n",
    "                                        GUAA_double_bs_df,\n",
    "                                        limits=dG_GUAA_double_df['limit']\n",
    "                                    )\n",
    "                                )),axis=1)"
   ]
  },
  {
   "cell_type": "code",
   "execution_count": 21,
   "id": "7b546c0c",
   "metadata": {},
   "outputs": [],
   "source": [
    "for df,avg_df in zip([dG_GAAA_single_df,dG_GAAA_double_df,\n",
    "                       dG_GUAA_single_df,dG_GUAA_double_df],\n",
    "                  [avg_dG_GAAA_single_df,avg_dG_GAAA_double_df\n",
    "                   ,avg_dG_GUAA_single_df,avg_dG_GUAA_double_df]):\n",
    "    avg_df['limit'] = df.groupby('seq')['limit'].any()"
   ]
  },
  {
   "cell_type": "code",
   "execution_count": 22,
   "id": "eaa5fc8d",
   "metadata": {},
   "outputs": [],
   "source": [
    "avg_dG_GAAA_all_df = pd.concat((avg_dG_GAAA_single_df,avg_dG_GAAA_double_df))\n",
    "avg_dG_GUAA_all_df = pd.concat((avg_dG_GUAA_wt_df,avg_dG_GUAA_single_df,avg_dG_GUAA_double_df))\n"
   ]
  },
  {
   "cell_type": "markdown",
   "id": "00b2cd25",
   "metadata": {},
   "source": [
    "### Scaffold Effects"
   ]
  },
  {
   "cell_type": "code",
   "execution_count": null,
   "id": "85624709",
   "metadata": {},
   "outputs": [],
   "source": []
  },
  {
   "cell_type": "code",
   "execution_count": 23,
   "id": "56552a40",
   "metadata": {},
   "outputs": [],
   "source": [
    "def getVars(X,y):\n",
    "    '''calculate correlation coefficient between rows of X and y\n",
    "    y could be a row vector or matrix Y with same shape as X, \n",
    "        upon which row-by-row correlations will be calculated'''\n",
    "    \n",
    "    X_shape = X.shape\n",
    "    \n",
    "    if len(y.shape) == 1:\n",
    "        Y = np.tile(y,(X.shape[0],1))\n",
    "    else:\n",
    "        Y = y\n",
    "            \n",
    "    if np.sum(np.sum(np.isnan(X))) > 0:\n",
    "        Y[np.isnan(X)] = np.NaN\n",
    "    \n",
    "    Var = np.var(X - Y,axis=1)\n",
    "    Var[np.sum(np.isnan(X),axis=1)>2] = np.NaN\n",
    "    \n",
    "    return Var\n",
    "    "
   ]
  },
  {
   "cell_type": "code",
   "execution_count": 24,
   "id": "b248941a",
   "metadata": {},
   "outputs": [],
   "source": [
    "def testScaffoldEffectCorrelation(mut_df,wt_df,out_df,\n",
    "                                   verbose=False,\n",
    "                                   bs_cols = [f\"bs_{i}\" for i in range(10000)],\n",
    "                                   n_sc = 5,threshold=0):\n",
    "    \n",
    "    out_df = out_df.copy()\n",
    "    \n",
    "    # Set some parameters\n",
    "    n_bs = len(bs_cols)\n",
    "    n_conds = int(len(mut_df)/n_sc)\n",
    "    \n",
    "    # Generate nulls, i.e. permute wt data and calculate correlation of ddGs with itself\n",
    "    #   and generate test stats, i.e. calculate correlation of ddG between mut and wt    \n",
    "    wt_bs = wt_df[bs_cols].values\n",
    "    \n",
    "    # Shuffle wt data to make null distribution for comparison\n",
    "    shuffled_wt = wt_bs.copy()\n",
    "    shuffled_cols = np.roll(np.arange(shuffled_wt.shape[1]),1)\n",
    "    shuffled_wt = shuffled_wt[:,shuffled_cols]\n",
    "            \n",
    "    Vars = np.empty((n_conds,n_bs))\n",
    "    null_Vars = np.empty((n_conds,n_bs))\n",
    "    \n",
    "    num_scaffolds = np.empty(n_conds)\n",
    "    \n",
    "    for i,seq in enumerate(tqdm(out_df.index)):\n",
    "        # mask out values that are missing\n",
    "\n",
    "        temp_df = mut_df.loc[seq,bs_cols]\n",
    "        \n",
    "        temp_df[np.nanmedian(temp_df,axis=1)>=-7.1] = np.NaN\n",
    "        \n",
    "        mask = np.any(temp_df.isna(),axis=1).values\n",
    "                \n",
    "        masked_data = temp_df.values[~mask]\n",
    "        masked_wt = wt_bs[~mask]\n",
    "        masked_shuffled_wt = shuffled_wt[~mask]\n",
    "        \n",
    "        if sum(mask) > 2:\n",
    "            Vars[i,:] = np.NaN\n",
    "            null_Vars[i,:] = np.NaN\n",
    "            limit=True\n",
    "        else:            \n",
    "            Vars[i,:] = getVars(masked_data.T, masked_wt.T)\n",
    "            null_Vars[i,:] = getVars(masked_shuffled_wt.T, masked_wt.T)\n",
    "            \n",
    "        num_scaffolds[i] = 5-sum(mask)\n",
    "                \n",
    "    # Record average test stat per construct\n",
    "    out_df[['0.05_var','median_var','0.95_var']] = np.quantile(Vars,\n",
    "                                                          q=[0.05,0.5,0.95],\n",
    "                                                          axis=1).T\n",
    "\n",
    "    # Tabulate p values for observed stat w/in each scaffold for a given construct   \n",
    "    out_df['p_val_var'] = np.mean(Vars <= null_Vars, axis=1)\n",
    "    out_df.loc[np.any(np.isnan(Vars),axis=1),'p_val_var'] = np.NaN\n",
    "\n",
    "    \n",
    "    # Record how many non NaN values were used in calculating scaffold effects\n",
    "    out_df['n'] = num_scaffolds\n",
    "    \n",
    "    if verbose:\n",
    "        return out_df,nulls,tests\n",
    "    else:\n",
    "        return out_df"
   ]
  },
  {
   "cell_type": "code",
   "execution_count": null,
   "id": "a88a5c91",
   "metadata": {},
   "outputs": [],
   "source": []
  },
  {
   "cell_type": "code",
   "execution_count": null,
   "id": "71a62579",
   "metadata": {},
   "outputs": [],
   "source": []
  },
  {
   "cell_type": "code",
   "execution_count": null,
   "id": "bd9a8c11",
   "metadata": {},
   "outputs": [],
   "source": []
  },
  {
   "cell_type": "code",
   "execution_count": null,
   "id": "22e34595",
   "metadata": {},
   "outputs": [],
   "source": []
  },
  {
   "cell_type": "code",
   "execution_count": 25,
   "id": "d8fe26f6",
   "metadata": {},
   "outputs": [],
   "source": [
    "def plotFingerprints(seq1,seq2,\n",
    "                     bs_df_1,bs_df_2,\n",
    "                     colors=['tab:blue','k'],\n",
    "                     axs=None):\n",
    "    \n",
    "    \n",
    "    if axs is None:\n",
    "        fig,axs = plt.subplots(nrows=2, sharex=True)\n",
    "    \n",
    "    x = np.arange(5)+1\n",
    "    \n",
    "    dG_1 = findPercentiles(bs_df_1)\n",
    "    dG_2 = findPercentiles(bs_df_2)\n",
    "    ddG = findPercentiles(subtractWt(bs_df_1,bs_df_2))\n",
    "    \n",
    "    limit_mask = np.any(np.array([dG_1['dG']>=-7.1,dG_2['dG']>=-7.1]),axis=0)\n",
    "    nan_mask = np.any(np.array([np.any(dG_1.isna(),axis=1),np.any(dG_2.isna(),axis=1)]),axis=0)\n",
    "    \n",
    "    mask = np.any(np.array([limit_mask,nan_mask]),axis=0)\n",
    "    \n",
    "    dG_1 = dG_1.loc[~mask,:]\n",
    "    dG_2 = dG_2.loc[~mask,:]\n",
    "    ddG = ddG.loc[~mask,:]\n",
    "    x = x[~mask]\n",
    "    \n",
    "    axs[0].errorbar(x,dG_1['dG'],\n",
    "                    yerr = [dG_1['dG_ub']-dG_1['dG'],\n",
    "                            dG_1['dG']-dG_1['dG_lb']],\n",
    "                    fmt='o-', capsize=5,color=colors[0])\n",
    "    \n",
    "    axs[0].errorbar(x,dG_2['dG'],\n",
    "                    yerr = [dG_2['dG_ub']-dG_2['dG'],\n",
    "                            dG_2['dG']-dG_2['dG_lb']],\n",
    "                    fmt='o-', capsize=5,color=colors[1])\n",
    "    \n",
    "    axs[1].errorbar(x,ddG['dG'],\n",
    "                    yerr = [ddG['dG_ub']-ddG['dG'],\n",
    "                            ddG['dG']-ddG['dG_lb']],\n",
    "                    fmt='o-', capsize=5,color=colors[0])    \n",
    "    \n",
    "    axs[1].set_xticks(np.arange(5)+1)\n",
    "    \n",
    "    axs[1].set_xlabel('Scaffold')\n",
    "    axs[1].set_ylabel(r'$\\Delta\\Delta G$ (kcal/mol)')\n",
    "    axs[0].set_ylabel(r'$\\Delta G$ (kcal/mol)')\n",
    "    \n",
    "    if axs is None:\n",
    "        plt.show()\n",
    "    "
   ]
  },
  {
   "cell_type": "code",
   "execution_count": null,
   "id": "c1e7b258",
   "metadata": {},
   "outputs": [],
   "source": []
  },
  {
   "cell_type": "code",
   "execution_count": 26,
   "id": "d6b3e31f",
   "metadata": {},
   "outputs": [],
   "source": [
    "def pltVars(seq,df,colors=['tab:blue','k'],labels=['Variant','Expected from WT'],ax=None):\n",
    "    \n",
    "    bs_cols = [f\"bs_{i}\" for i in range(10000)]\n",
    "    temp_df = df.loc[seq,bs_cols]\n",
    "    wt_bs = GAAA_wt_bs_df[bs_cols].values\n",
    "    shuffled_wt = wt_bs.copy()\n",
    "    shuffled_cols = np.roll(np.arange(shuffled_wt.shape[1]),1)\n",
    "    shuffled_wt = shuffled_wt[:,shuffled_cols]\n",
    "\n",
    "\n",
    "    temp_df[np.nanmedian(temp_df,axis=1)>=-7.1] = np.NaN\n",
    "\n",
    "    mask = np.any(temp_df.isna(),axis=1).values\n",
    "\n",
    "    masked_data = temp_df.values[~mask]\n",
    "    masked_wt = wt_bs[~mask]\n",
    "    masked_shuffled_wt = shuffled_wt[~mask]\n",
    "    foo = getVars(masked_data.T, masked_wt.T)\n",
    "    bar = getVars(masked_shuffled_wt.T, masked_wt.T)\n",
    "\n",
    "    if ax is None:\n",
    "        fig,ax = plt.subplots()\n",
    "        \n",
    "    ax.hist(foo,histtype='step',label=labels[0],color=colors[0])\n",
    "    ax.hist(bar,histtype='step',label=labels[1],color=colors[1])\n",
    "    \n",
    "    ax.legend()\n",
    "    \n",
    "    ax.set_title(seq)\n",
    "\n",
    "    if ax is None:\n",
    "        plt.show()"
   ]
  },
  {
   "cell_type": "code",
   "execution_count": null,
   "id": "c7a1a6d1",
   "metadata": {},
   "outputs": [],
   "source": []
  },
  {
   "cell_type": "code",
   "execution_count": null,
   "id": "8df727dc",
   "metadata": {},
   "outputs": [],
   "source": []
  },
  {
   "cell_type": "code",
   "execution_count": null,
   "id": "f6e1e7ac",
   "metadata": {},
   "outputs": [],
   "source": []
  },
  {
   "cell_type": "code",
   "execution_count": null,
   "id": "dabf70a3",
   "metadata": {},
   "outputs": [],
   "source": []
  },
  {
   "cell_type": "markdown",
   "id": "50aca90a",
   "metadata": {},
   "source": [
    "# GAAA Scaffold Effects"
   ]
  },
  {
   "cell_type": "code",
   "execution_count": 27,
   "id": "96e9c3fc",
   "metadata": {},
   "outputs": [
    {
     "name": "stderr",
     "output_type": "stream",
     "text": [
      "  0%|                                                                                                          | 0/33 [00:00<?, ?it/s]C:\\ProgramData\\Anaconda3\\lib\\site-packages\\numpy\\lib\\nanfunctions.py:993: RuntimeWarning: All-NaN slice encountered\n",
      "  result = np.apply_along_axis(_nanmedian1d, axis, a, overwrite_input)\n",
      "100%|█████████████████████████████████████████████████████████████████████████████████████████████████| 33/33 [00:01<00:00, 28.52it/s]\n",
      "100%|███████████████████████████████████████████████████████████████████████████████████████████████| 495/495 [00:40<00:00, 12.09it/s]\n"
     ]
    }
   ],
   "source": [
    "GAAA_single_se_pvals = testScaffoldEffectCorrelation(GAAA_single_bs_df,\n",
    "                                                     GAAA_wt_bs_df,\n",
    "                                                     avg_dG_GAAA_single_df.iloc[:,np.r_[:4,-1]],\n",
    "                                                     threshold=0.3)\n",
    "GAAA_double_se_pvals = testScaffoldEffectCorrelation(GAAA_double_bs_df,\n",
    "                                                     GAAA_wt_bs_df,\n",
    "                                                     avg_dG_GAAA_double_df.iloc[:,np.r_[:4,-1]],\n",
    "                                                     threshold=0.3)"
   ]
  },
  {
   "cell_type": "code",
   "execution_count": 28,
   "id": "8382f0f6",
   "metadata": {},
   "outputs": [
    {
     "name": "stdout",
     "output_type": "stream",
     "text": [
      "293 p-values\n"
     ]
    }
   ],
   "source": [
    "GAAA_combined_pvals = pd.concat((GAAA_single_se_pvals,GAAA_double_se_pvals))\n",
    "GAAA_combined_pvals = avg_dG_GAAA_all_df.join(GAAA_combined_pvals,lsuffix='left',how='right')\n",
    "GAAA_combined_pvals = adj_pvals(GAAA_combined_pvals,\n",
    "                                    p_col=f\"p_val_var\",\n",
    "                                    a_col = f\"adj_p_val_var\")\n",
    "    \n",
    "GAAA_combined_pvals[f\"nlogp_var\"] = -np.log10(GAAA_combined_pvals[f\"adj_p_val_var\"]+1e-5)    \n"
   ]
  },
  {
   "cell_type": "code",
   "execution_count": null,
   "id": "90376dac",
   "metadata": {},
   "outputs": [],
   "source": []
  },
  {
   "cell_type": "code",
   "execution_count": 29,
   "id": "d404d6b4",
   "metadata": {},
   "outputs": [
    {
     "data": {
      "image/png": "[encoded data removed]",
      "text/plain": [
       "<Figure size 288x216 with 1 Axes>"
      ]
     },
     "metadata": {},
     "output_type": "display_data"
    }
   ],
   "source": [
    "fig,ax = plt.subplots(facecolor='w',figsize=(4,3))\n",
    "\n",
    "\n",
    "sns.scatterplot(data=GAAA_combined_pvals.query('adj_p_val_var >= 0.05'),x='dG',y='median_var',\n",
    "                hue='n',hue_order=[3,4,5],ax=ax,palette=['tab:blue','tab:orange','tab:green'],size='nlogp_var',\n",
    "               legend=False,alpha=0.3,size_norm=(0,1))\n",
    "\n",
    "sns.scatterplot(data=GAAA_combined_pvals.query('adj_p_val_var < 0.05'),x='dG',y='median_var',\n",
    "                hue='n',hue_order=[3,4,5],ax=ax,palette=['tab:blue','tab:orange','tab:green'],size='nlogp_var',\n",
    "               legend=False,alpha=1,size_norm=(0,1))\n",
    "\n",
    "\n",
    "ax.plot([],[],'o',color='tab:blue',label='3, n = 61')\n",
    "ax.plot([],[],'o',color='tab:orange',label='4, n = 82')\n",
    "ax.plot([],[],'o',color='tab:green',label='5, n = 150')\n",
    "\n",
    "ax.set_ylabel(r'Median Variance',fontsize=14)\n",
    "ax.set_xlabel(r'$\\Delta G$ (kcal/mol)',fontsize=14)\n",
    "ax.legend(fontsize=8,title='# Scaffolds',framealpha=0.4,loc='center left', bbox_to_anchor=(1, 0.5))\n",
    "ax.set_title('Scaffold Effects for GAAA\\n',fontsize=10)\n",
    "\n",
    "plt.tight_layout()\n",
    "\n",
    "plt.savefig('Figures/Supplement/GAAA_scaffold.png',facecolor='white',dpi=600)\n",
    "\n",
    "plt.show()"
   ]
  },
  {
   "cell_type": "code",
   "execution_count": 30,
   "id": "eb1e854a",
   "metadata": {},
   "outputs": [
    {
     "data": {
      "text/plain": [
       "5.0    150\n",
       "0.0    118\n",
       "4.0     82\n",
       "3.0     61\n",
       "2.0     59\n",
       "1.0     58\n",
       "Name: n, dtype: int64"
      ]
     },
     "execution_count": 30,
     "metadata": {},
     "output_type": "execute_result"
    }
   ],
   "source": [
    "GAAA_combined_pvals['n'].value_counts()"
   ]
  },
  {
   "cell_type": "code",
   "execution_count": null,
   "id": "c9fd9fbe",
   "metadata": {},
   "outputs": [],
   "source": []
  },
  {
   "cell_type": "code",
   "execution_count": null,
   "id": "849f6bf6",
   "metadata": {},
   "outputs": [],
   "source": []
  },
  {
   "cell_type": "code",
   "execution_count": null,
   "id": "90c92886",
   "metadata": {},
   "outputs": [],
   "source": []
  },
  {
   "cell_type": "markdown",
   "id": "a19cf12e",
   "metadata": {},
   "source": [
    "## GUAA"
   ]
  },
  {
   "cell_type": "code",
   "execution_count": 31,
   "id": "dc80f254",
   "metadata": {
    "scrolled": true
   },
   "outputs": [
    {
     "name": "stderr",
     "output_type": "stream",
     "text": [
      "100%|███████████████████████████████████████████████████████████████████████████████████████████████████| 1/1 [00:00<00:00, 24.15it/s]\n",
      "  0%|                                                                                                          | 0/33 [00:00<?, ?it/s]C:\\ProgramData\\Anaconda3\\lib\\site-packages\\numpy\\lib\\nanfunctions.py:993: RuntimeWarning: All-NaN slice encountered\n",
      "  result = np.apply_along_axis(_nanmedian1d, axis, a, overwrite_input)\n",
      "100%|█████████████████████████████████████████████████████████████████████████████████████████████████| 33/33 [00:01<00:00, 31.73it/s]\n",
      "100%|███████████████████████████████████████████████████████████████████████████████████████████████| 495/495 [00:37<00:00, 13.33it/s]\n"
     ]
    }
   ],
   "source": [
    "GUAA_wt_se_pvals = testScaffoldEffectCorrelation(GUAA_wt_bs_df,\n",
    "                                                 GAAA_wt_bs_df,\n",
    "                                                 avg_dG_GUAA_wt_df.iloc[:,:0])\n",
    "GUAA_single_se_pvals = testScaffoldEffectCorrelation(GUAA_single_bs_df,\n",
    "                                                     GAAA_wt_bs_df,\n",
    "                                                     avg_dG_GUAA_single_df.iloc[:,np.r_[:4,-1]])\n",
    "GUAA_double_se_pvals = testScaffoldEffectCorrelation(GUAA_double_bs_df,\n",
    "                                                     GAAA_wt_bs_df,\n",
    "                                                     avg_dG_GUAA_double_df.iloc[:,np.r_[:4,-1]])"
   ]
  },
  {
   "cell_type": "code",
   "execution_count": 32,
   "id": "ab7e430a",
   "metadata": {},
   "outputs": [
    {
     "name": "stdout",
     "output_type": "stream",
     "text": [
      "238 p-values\n"
     ]
    }
   ],
   "source": [
    "GUAA_combined_pvals = pd.concat((GUAA_wt_se_pvals,GUAA_single_se_pvals,GUAA_double_se_pvals))\n",
    "GUAA_combined_pvals = avg_dG_GUAA_all_df.join(GUAA_combined_pvals,lsuffix='left',how='right')\n",
    "\n",
    "GUAA_combined_pvals['limit'] = GUAA_combined_pvals['limit'].astype(bool)\n",
    "\n",
    "GUAA_combined_pvals = adj_pvals(GUAA_combined_pvals,\n",
    "                                    p_col=f\"p_val_var\",\n",
    "                                    a_col = f\"adj_p_val_var\")\n",
    "    \n",
    "GUAA_combined_pvals[f\"nlogp_var\"] = -np.log10(GUAA_combined_pvals[f\"adj_p_val_var\"]+1e-5)    \n"
   ]
  },
  {
   "cell_type": "code",
   "execution_count": 33,
   "id": "73ed6b91",
   "metadata": {},
   "outputs": [
    {
     "data": {
      "text/plain": [
       "0.0    132\n",
       "1.0     91\n",
       "4.0     88\n",
       "3.0     77\n",
       "5.0     73\n",
       "2.0     68\n",
       "Name: n, dtype: int64"
      ]
     },
     "execution_count": 33,
     "metadata": {},
     "output_type": "execute_result"
    }
   ],
   "source": [
    "GUAA_combined_pvals['n'].value_counts()"
   ]
  },
  {
   "cell_type": "code",
   "execution_count": 34,
   "id": "38010a4a",
   "metadata": {
    "scrolled": false
   },
   "outputs": [
    {
     "data": {
      "text/html": [
       "<div>\n",
       "<style scoped>\n",
       "    .dataframe tbody tr th:only-of-type {\n",
       "        vertical-align: middle;\n",
       "    }\n",
       "\n",
       "    .dataframe tbody tr th {\n",
       "        vertical-align: top;\n",
       "    }\n",
       "\n",
       "    .dataframe thead th {\n",
       "        text-align: right;\n",
       "    }\n",
       "</style>\n",
       "<table border=\"1\" class=\"dataframe\">\n",
       "  <thead>\n",
       "    <tr style=\"text-align: right;\">\n",
       "      <th></th>\n",
       "      <th>dG</th>\n",
       "      <th>dG_lb</th>\n",
       "      <th>dG_ub</th>\n",
       "      <th>first_locleft</th>\n",
       "      <th>first_resleft</th>\n",
       "      <th>second_locleft</th>\n",
       "      <th>second_resleft</th>\n",
       "      <th>limitleft</th>\n",
       "      <th>0.05_var</th>\n",
       "      <th>median_var</th>\n",
       "      <th>0.95_var</th>\n",
       "      <th>p_val_var</th>\n",
       "      <th>n</th>\n",
       "      <th>first_loc</th>\n",
       "      <th>first_res</th>\n",
       "      <th>second_loc</th>\n",
       "      <th>second_res</th>\n",
       "      <th>limit</th>\n",
       "      <th>adj_p_val_var</th>\n",
       "      <th>nlogp_var</th>\n",
       "    </tr>\n",
       "    <tr>\n",
       "      <th>seq</th>\n",
       "      <th></th>\n",
       "      <th></th>\n",
       "      <th></th>\n",
       "      <th></th>\n",
       "      <th></th>\n",
       "      <th></th>\n",
       "      <th></th>\n",
       "      <th></th>\n",
       "      <th></th>\n",
       "      <th></th>\n",
       "      <th></th>\n",
       "      <th></th>\n",
       "      <th></th>\n",
       "      <th></th>\n",
       "      <th></th>\n",
       "      <th></th>\n",
       "      <th></th>\n",
       "      <th></th>\n",
       "      <th></th>\n",
       "      <th></th>\n",
       "    </tr>\n",
       "  </thead>\n",
       "  <tbody>\n",
       "    <tr>\n",
       "      <th>UUUGG_CCUAAG</th>\n",
       "      <td>-8.082610</td>\n",
       "      <td>-8.234375</td>\n",
       "      <td>-7.931497</td>\n",
       "      <td>8.0</td>\n",
       "      <td>U</td>\n",
       "      <td>NaN</td>\n",
       "      <td>NaN</td>\n",
       "      <td>False</td>\n",
       "      <td>0.429140</td>\n",
       "      <td>0.635786</td>\n",
       "      <td>0.882335</td>\n",
       "      <td>0.0003</td>\n",
       "      <td>3.0</td>\n",
       "      <td>8.0</td>\n",
       "      <td>U</td>\n",
       "      <td>NaN</td>\n",
       "      <td>NaN</td>\n",
       "      <td>False</td>\n",
       "      <td>0.007933</td>\n",
       "      <td>2.099997</td>\n",
       "    </tr>\n",
       "    <tr>\n",
       "      <th>AAUGG_CCUGAG</th>\n",
       "      <td>-7.880246</td>\n",
       "      <td>-8.109714</td>\n",
       "      <td>-7.673142</td>\n",
       "      <td>7.0</td>\n",
       "      <td>A</td>\n",
       "      <td>4.0</td>\n",
       "      <td>G</td>\n",
       "      <td>False</td>\n",
       "      <td>0.259565</td>\n",
       "      <td>0.541874</td>\n",
       "      <td>0.879165</td>\n",
       "      <td>0.0024</td>\n",
       "      <td>4.0</td>\n",
       "      <td>7.0</td>\n",
       "      <td>A</td>\n",
       "      <td>4.0</td>\n",
       "      <td>G</td>\n",
       "      <td>False</td>\n",
       "      <td>0.027200</td>\n",
       "      <td>1.565271</td>\n",
       "    </tr>\n",
       "    <tr>\n",
       "      <th>CAUGG_CCCAAG</th>\n",
       "      <td>-7.661148</td>\n",
       "      <td>-8.072560</td>\n",
       "      <td>-7.393760</td>\n",
       "      <td>7.0</td>\n",
       "      <td>C</td>\n",
       "      <td>3.0</td>\n",
       "      <td>C</td>\n",
       "      <td>False</td>\n",
       "      <td>0.190531</td>\n",
       "      <td>0.402285</td>\n",
       "      <td>0.692312</td>\n",
       "      <td>0.0033</td>\n",
       "      <td>3.0</td>\n",
       "      <td>7.0</td>\n",
       "      <td>C</td>\n",
       "      <td>3.0</td>\n",
       "      <td>C</td>\n",
       "      <td>False</td>\n",
       "      <td>0.034148</td>\n",
       "      <td>1.466510</td>\n",
       "    </tr>\n",
       "    <tr>\n",
       "      <th>CAUGG_CCUACG</th>\n",
       "      <td>-8.102398</td>\n",
       "      <td>-8.342931</td>\n",
       "      <td>-7.936836</td>\n",
       "      <td>7.0</td>\n",
       "      <td>C</td>\n",
       "      <td>5.0</td>\n",
       "      <td>C</td>\n",
       "      <td>False</td>\n",
       "      <td>0.398224</td>\n",
       "      <td>0.594881</td>\n",
       "      <td>0.925338</td>\n",
       "      <td>0.0000</td>\n",
       "      <td>3.0</td>\n",
       "      <td>7.0</td>\n",
       "      <td>C</td>\n",
       "      <td>5.0</td>\n",
       "      <td>C</td>\n",
       "      <td>False</td>\n",
       "      <td>0.000000</td>\n",
       "      <td>5.000000</td>\n",
       "    </tr>\n",
       "    <tr>\n",
       "      <th>GAAGG_CCUAAG</th>\n",
       "      <td>-8.067047</td>\n",
       "      <td>-8.404907</td>\n",
       "      <td>-7.736011</td>\n",
       "      <td>7.0</td>\n",
       "      <td>G</td>\n",
       "      <td>9.0</td>\n",
       "      <td>A</td>\n",
       "      <td>False</td>\n",
       "      <td>0.585615</td>\n",
       "      <td>0.979564</td>\n",
       "      <td>1.770834</td>\n",
       "      <td>0.0007</td>\n",
       "      <td>4.0</td>\n",
       "      <td>7.0</td>\n",
       "      <td>G</td>\n",
       "      <td>9.0</td>\n",
       "      <td>A</td>\n",
       "      <td>False</td>\n",
       "      <td>0.015867</td>\n",
       "      <td>1.799241</td>\n",
       "    </tr>\n",
       "    <tr>\n",
       "      <th>GAUGG_CCCAAG</th>\n",
       "      <td>-8.052844</td>\n",
       "      <td>-8.184042</td>\n",
       "      <td>-7.938880</td>\n",
       "      <td>7.0</td>\n",
       "      <td>G</td>\n",
       "      <td>3.0</td>\n",
       "      <td>C</td>\n",
       "      <td>False</td>\n",
       "      <td>0.727015</td>\n",
       "      <td>0.949101</td>\n",
       "      <td>1.234243</td>\n",
       "      <td>0.0003</td>\n",
       "      <td>4.0</td>\n",
       "      <td>7.0</td>\n",
       "      <td>G</td>\n",
       "      <td>3.0</td>\n",
       "      <td>C</td>\n",
       "      <td>False</td>\n",
       "      <td>0.007933</td>\n",
       "      <td>2.099997</td>\n",
       "    </tr>\n",
       "    <tr>\n",
       "      <th>GAUGG_CCUAAA</th>\n",
       "      <td>-7.910030</td>\n",
       "      <td>-8.201719</td>\n",
       "      <td>-7.612669</td>\n",
       "      <td>7.0</td>\n",
       "      <td>G</td>\n",
       "      <td>6.0</td>\n",
       "      <td>A</td>\n",
       "      <td>False</td>\n",
       "      <td>0.232619</td>\n",
       "      <td>0.477920</td>\n",
       "      <td>0.815888</td>\n",
       "      <td>0.0036</td>\n",
       "      <td>4.0</td>\n",
       "      <td>7.0</td>\n",
       "      <td>G</td>\n",
       "      <td>6.0</td>\n",
       "      <td>A</td>\n",
       "      <td>False</td>\n",
       "      <td>0.035700</td>\n",
       "      <td>1.447210</td>\n",
       "    </tr>\n",
       "    <tr>\n",
       "      <th>GAUGG_CCUAGG</th>\n",
       "      <td>-7.798525</td>\n",
       "      <td>-7.965565</td>\n",
       "      <td>-7.634277</td>\n",
       "      <td>7.0</td>\n",
       "      <td>G</td>\n",
       "      <td>5.0</td>\n",
       "      <td>G</td>\n",
       "      <td>False</td>\n",
       "      <td>0.434884</td>\n",
       "      <td>0.619593</td>\n",
       "      <td>0.855753</td>\n",
       "      <td>0.0015</td>\n",
       "      <td>4.0</td>\n",
       "      <td>7.0</td>\n",
       "      <td>G</td>\n",
       "      <td>5.0</td>\n",
       "      <td>G</td>\n",
       "      <td>False</td>\n",
       "      <td>0.019040</td>\n",
       "      <td>1.720105</td>\n",
       "    </tr>\n",
       "    <tr>\n",
       "      <th>UAAGG_CCUAAU</th>\n",
       "      <td>-7.574488</td>\n",
       "      <td>-7.849846</td>\n",
       "      <td>-7.370796</td>\n",
       "      <td>9.0</td>\n",
       "      <td>A</td>\n",
       "      <td>6.0</td>\n",
       "      <td>U</td>\n",
       "      <td>False</td>\n",
       "      <td>0.477860</td>\n",
       "      <td>0.717773</td>\n",
       "      <td>0.990722</td>\n",
       "      <td>0.0015</td>\n",
       "      <td>3.0</td>\n",
       "      <td>9.0</td>\n",
       "      <td>A</td>\n",
       "      <td>6.0</td>\n",
       "      <td>U</td>\n",
       "      <td>False</td>\n",
       "      <td>0.019040</td>\n",
       "      <td>1.720105</td>\n",
       "    </tr>\n",
       "    <tr>\n",
       "      <th>UAAGG_CCUACG</th>\n",
       "      <td>-8.017684</td>\n",
       "      <td>-8.169766</td>\n",
       "      <td>-7.827473</td>\n",
       "      <td>9.0</td>\n",
       "      <td>A</td>\n",
       "      <td>5.0</td>\n",
       "      <td>C</td>\n",
       "      <td>False</td>\n",
       "      <td>0.540642</td>\n",
       "      <td>0.746387</td>\n",
       "      <td>1.015679</td>\n",
       "      <td>0.0008</td>\n",
       "      <td>4.0</td>\n",
       "      <td>9.0</td>\n",
       "      <td>A</td>\n",
       "      <td>5.0</td>\n",
       "      <td>C</td>\n",
       "      <td>False</td>\n",
       "      <td>0.015867</td>\n",
       "      <td>1.799241</td>\n",
       "    </tr>\n",
       "    <tr>\n",
       "      <th>UACGG_CCUAGG</th>\n",
       "      <td>-7.573430</td>\n",
       "      <td>-7.735503</td>\n",
       "      <td>-7.414848</td>\n",
       "      <td>9.0</td>\n",
       "      <td>C</td>\n",
       "      <td>5.0</td>\n",
       "      <td>G</td>\n",
       "      <td>True</td>\n",
       "      <td>0.570975</td>\n",
       "      <td>0.855546</td>\n",
       "      <td>1.204935</td>\n",
       "      <td>0.0003</td>\n",
       "      <td>3.0</td>\n",
       "      <td>9.0</td>\n",
       "      <td>C</td>\n",
       "      <td>5.0</td>\n",
       "      <td>G</td>\n",
       "      <td>True</td>\n",
       "      <td>0.007933</td>\n",
       "      <td>2.099997</td>\n",
       "    </tr>\n",
       "    <tr>\n",
       "      <th>UAGAG_CCUAAG</th>\n",
       "      <td>-7.340633</td>\n",
       "      <td>-7.473130</td>\n",
       "      <td>-7.219928</td>\n",
       "      <td>9.0</td>\n",
       "      <td>G</td>\n",
       "      <td>10.0</td>\n",
       "      <td>A</td>\n",
       "      <td>True</td>\n",
       "      <td>0.343585</td>\n",
       "      <td>0.614461</td>\n",
       "      <td>0.953346</td>\n",
       "      <td>0.0008</td>\n",
       "      <td>3.0</td>\n",
       "      <td>9.0</td>\n",
       "      <td>G</td>\n",
       "      <td>10.0</td>\n",
       "      <td>A</td>\n",
       "      <td>True</td>\n",
       "      <td>0.015867</td>\n",
       "      <td>1.799241</td>\n",
       "    </tr>\n",
       "    <tr>\n",
       "      <th>UAGGG_CCUAAA</th>\n",
       "      <td>-7.649841</td>\n",
       "      <td>-7.861432</td>\n",
       "      <td>-7.437441</td>\n",
       "      <td>9.0</td>\n",
       "      <td>G</td>\n",
       "      <td>6.0</td>\n",
       "      <td>A</td>\n",
       "      <td>False</td>\n",
       "      <td>0.418451</td>\n",
       "      <td>0.654228</td>\n",
       "      <td>0.976423</td>\n",
       "      <td>0.0016</td>\n",
       "      <td>4.0</td>\n",
       "      <td>9.0</td>\n",
       "      <td>G</td>\n",
       "      <td>6.0</td>\n",
       "      <td>A</td>\n",
       "      <td>False</td>\n",
       "      <td>0.019040</td>\n",
       "      <td>1.720105</td>\n",
       "    </tr>\n",
       "    <tr>\n",
       "      <th>UAUAG_CCUAUG</th>\n",
       "      <td>-7.270238</td>\n",
       "      <td>-7.438285</td>\n",
       "      <td>-7.113889</td>\n",
       "      <td>10.0</td>\n",
       "      <td>A</td>\n",
       "      <td>5.0</td>\n",
       "      <td>U</td>\n",
       "      <td>True</td>\n",
       "      <td>0.278518</td>\n",
       "      <td>0.523010</td>\n",
       "      <td>0.858676</td>\n",
       "      <td>0.0016</td>\n",
       "      <td>3.0</td>\n",
       "      <td>10.0</td>\n",
       "      <td>A</td>\n",
       "      <td>5.0</td>\n",
       "      <td>U</td>\n",
       "      <td>True</td>\n",
       "      <td>0.019040</td>\n",
       "      <td>1.720105</td>\n",
       "    </tr>\n",
       "    <tr>\n",
       "      <th>UAUGC_CCUAAU</th>\n",
       "      <td>-7.319884</td>\n",
       "      <td>-7.521055</td>\n",
       "      <td>-7.131450</td>\n",
       "      <td>11.0</td>\n",
       "      <td>C</td>\n",
       "      <td>6.0</td>\n",
       "      <td>U</td>\n",
       "      <td>True</td>\n",
       "      <td>0.215179</td>\n",
       "      <td>0.404304</td>\n",
       "      <td>0.675749</td>\n",
       "      <td>0.0042</td>\n",
       "      <td>4.0</td>\n",
       "      <td>11.0</td>\n",
       "      <td>C</td>\n",
       "      <td>6.0</td>\n",
       "      <td>U</td>\n",
       "      <td>True</td>\n",
       "      <td>0.038446</td>\n",
       "      <td>1.415034</td>\n",
       "    </tr>\n",
       "    <tr>\n",
       "      <th>UAUGG_CAGAAG</th>\n",
       "      <td>-7.338482</td>\n",
       "      <td>-7.479878</td>\n",
       "      <td>-7.150002</td>\n",
       "      <td>2.0</td>\n",
       "      <td>A</td>\n",
       "      <td>3.0</td>\n",
       "      <td>G</td>\n",
       "      <td>True</td>\n",
       "      <td>0.623802</td>\n",
       "      <td>1.063761</td>\n",
       "      <td>1.507657</td>\n",
       "      <td>0.0014</td>\n",
       "      <td>3.0</td>\n",
       "      <td>2.0</td>\n",
       "      <td>A</td>\n",
       "      <td>3.0</td>\n",
       "      <td>G</td>\n",
       "      <td>True</td>\n",
       "      <td>0.019040</td>\n",
       "      <td>1.720105</td>\n",
       "    </tr>\n",
       "    <tr>\n",
       "      <th>UAUGG_CCCAAA</th>\n",
       "      <td>-7.493254</td>\n",
       "      <td>-7.691755</td>\n",
       "      <td>-7.327316</td>\n",
       "      <td>3.0</td>\n",
       "      <td>C</td>\n",
       "      <td>6.0</td>\n",
       "      <td>A</td>\n",
       "      <td>True</td>\n",
       "      <td>0.173987</td>\n",
       "      <td>0.477301</td>\n",
       "      <td>0.843110</td>\n",
       "      <td>0.0038</td>\n",
       "      <td>3.0</td>\n",
       "      <td>3.0</td>\n",
       "      <td>C</td>\n",
       "      <td>6.0</td>\n",
       "      <td>A</td>\n",
       "      <td>True</td>\n",
       "      <td>0.036176</td>\n",
       "      <td>1.441459</td>\n",
       "    </tr>\n",
       "    <tr>\n",
       "      <th>UAUGG_CCCUAG</th>\n",
       "      <td>-7.460789</td>\n",
       "      <td>-7.741646</td>\n",
       "      <td>-7.106195</td>\n",
       "      <td>3.0</td>\n",
       "      <td>C</td>\n",
       "      <td>4.0</td>\n",
       "      <td>U</td>\n",
       "      <td>False</td>\n",
       "      <td>0.472271</td>\n",
       "      <td>0.745276</td>\n",
       "      <td>1.099717</td>\n",
       "      <td>0.0031</td>\n",
       "      <td>3.0</td>\n",
       "      <td>3.0</td>\n",
       "      <td>C</td>\n",
       "      <td>4.0</td>\n",
       "      <td>U</td>\n",
       "      <td>False</td>\n",
       "      <td>0.033536</td>\n",
       "      <td>1.474355</td>\n",
       "    </tr>\n",
       "    <tr>\n",
       "      <th>UAUGG_CCGAAU</th>\n",
       "      <td>-7.814794</td>\n",
       "      <td>-8.163410</td>\n",
       "      <td>-7.583945</td>\n",
       "      <td>3.0</td>\n",
       "      <td>G</td>\n",
       "      <td>6.0</td>\n",
       "      <td>U</td>\n",
       "      <td>False</td>\n",
       "      <td>0.488848</td>\n",
       "      <td>0.808438</td>\n",
       "      <td>1.233846</td>\n",
       "      <td>0.0011</td>\n",
       "      <td>4.0</td>\n",
       "      <td>3.0</td>\n",
       "      <td>G</td>\n",
       "      <td>6.0</td>\n",
       "      <td>U</td>\n",
       "      <td>False</td>\n",
       "      <td>0.019040</td>\n",
       "      <td>1.720105</td>\n",
       "    </tr>\n",
       "    <tr>\n",
       "      <th>UAUGG_CCUACU</th>\n",
       "      <td>-7.427423</td>\n",
       "      <td>-7.604655</td>\n",
       "      <td>-7.257709</td>\n",
       "      <td>5.0</td>\n",
       "      <td>C</td>\n",
       "      <td>6.0</td>\n",
       "      <td>U</td>\n",
       "      <td>True</td>\n",
       "      <td>0.455575</td>\n",
       "      <td>0.782056</td>\n",
       "      <td>1.154483</td>\n",
       "      <td>0.0001</td>\n",
       "      <td>3.0</td>\n",
       "      <td>5.0</td>\n",
       "      <td>C</td>\n",
       "      <td>6.0</td>\n",
       "      <td>U</td>\n",
       "      <td>True</td>\n",
       "      <td>0.005950</td>\n",
       "      <td>2.224754</td>\n",
       "    </tr>\n",
       "    <tr>\n",
       "      <th>UAUGG_CCUCAA</th>\n",
       "      <td>-7.687087</td>\n",
       "      <td>-7.832281</td>\n",
       "      <td>-7.549779</td>\n",
       "      <td>4.0</td>\n",
       "      <td>C</td>\n",
       "      <td>6.0</td>\n",
       "      <td>A</td>\n",
       "      <td>True</td>\n",
       "      <td>0.602563</td>\n",
       "      <td>0.896652</td>\n",
       "      <td>1.221773</td>\n",
       "      <td>0.0001</td>\n",
       "      <td>3.0</td>\n",
       "      <td>4.0</td>\n",
       "      <td>C</td>\n",
       "      <td>6.0</td>\n",
       "      <td>A</td>\n",
       "      <td>True</td>\n",
       "      <td>0.005950</td>\n",
       "      <td>2.224754</td>\n",
       "    </tr>\n",
       "    <tr>\n",
       "      <th>UAUGG_GGUAAG</th>\n",
       "      <td>-7.345517</td>\n",
       "      <td>-7.547425</td>\n",
       "      <td>-7.114251</td>\n",
       "      <td>1.0</td>\n",
       "      <td>G</td>\n",
       "      <td>2.0</td>\n",
       "      <td>G</td>\n",
       "      <td>True</td>\n",
       "      <td>0.246899</td>\n",
       "      <td>0.537753</td>\n",
       "      <td>0.984621</td>\n",
       "      <td>0.0015</td>\n",
       "      <td>3.0</td>\n",
       "      <td>1.0</td>\n",
       "      <td>G</td>\n",
       "      <td>2.0</td>\n",
       "      <td>G</td>\n",
       "      <td>True</td>\n",
       "      <td>0.019040</td>\n",
       "      <td>1.720105</td>\n",
       "    </tr>\n",
       "    <tr>\n",
       "      <th>UCUGG_CCAAAG</th>\n",
       "      <td>-7.859490</td>\n",
       "      <td>-8.064301</td>\n",
       "      <td>-7.677024</td>\n",
       "      <td>8.0</td>\n",
       "      <td>C</td>\n",
       "      <td>3.0</td>\n",
       "      <td>A</td>\n",
       "      <td>False</td>\n",
       "      <td>0.691369</td>\n",
       "      <td>0.978967</td>\n",
       "      <td>1.299858</td>\n",
       "      <td>0.0002</td>\n",
       "      <td>4.0</td>\n",
       "      <td>8.0</td>\n",
       "      <td>C</td>\n",
       "      <td>3.0</td>\n",
       "      <td>A</td>\n",
       "      <td>False</td>\n",
       "      <td>0.007933</td>\n",
       "      <td>2.099997</td>\n",
       "    </tr>\n",
       "    <tr>\n",
       "      <th>UCUGG_CCCAAG</th>\n",
       "      <td>-8.068799</td>\n",
       "      <td>-8.194297</td>\n",
       "      <td>-7.952964</td>\n",
       "      <td>8.0</td>\n",
       "      <td>C</td>\n",
       "      <td>3.0</td>\n",
       "      <td>C</td>\n",
       "      <td>False</td>\n",
       "      <td>0.882296</td>\n",
       "      <td>1.139173</td>\n",
       "      <td>1.436352</td>\n",
       "      <td>0.0001</td>\n",
       "      <td>4.0</td>\n",
       "      <td>8.0</td>\n",
       "      <td>C</td>\n",
       "      <td>3.0</td>\n",
       "      <td>C</td>\n",
       "      <td>False</td>\n",
       "      <td>0.005950</td>\n",
       "      <td>2.224754</td>\n",
       "    </tr>\n",
       "    <tr>\n",
       "      <th>UCUGG_CCGAAG</th>\n",
       "      <td>-7.857155</td>\n",
       "      <td>-8.064473</td>\n",
       "      <td>-7.674294</td>\n",
       "      <td>8.0</td>\n",
       "      <td>C</td>\n",
       "      <td>3.0</td>\n",
       "      <td>G</td>\n",
       "      <td>False</td>\n",
       "      <td>0.616745</td>\n",
       "      <td>0.844693</td>\n",
       "      <td>1.100663</td>\n",
       "      <td>0.0012</td>\n",
       "      <td>3.0</td>\n",
       "      <td>8.0</td>\n",
       "      <td>C</td>\n",
       "      <td>3.0</td>\n",
       "      <td>G</td>\n",
       "      <td>False</td>\n",
       "      <td>0.019040</td>\n",
       "      <td>1.720105</td>\n",
       "    </tr>\n",
       "    <tr>\n",
       "      <th>UCUGG_CCUAAC</th>\n",
       "      <td>-7.197789</td>\n",
       "      <td>-7.388587</td>\n",
       "      <td>-7.021853</td>\n",
       "      <td>8.0</td>\n",
       "      <td>C</td>\n",
       "      <td>6.0</td>\n",
       "      <td>C</td>\n",
       "      <td>True</td>\n",
       "      <td>0.153577</td>\n",
       "      <td>0.347969</td>\n",
       "      <td>0.614426</td>\n",
       "      <td>0.0045</td>\n",
       "      <td>3.0</td>\n",
       "      <td>8.0</td>\n",
       "      <td>C</td>\n",
       "      <td>6.0</td>\n",
       "      <td>C</td>\n",
       "      <td>True</td>\n",
       "      <td>0.039667</td>\n",
       "      <td>1.401465</td>\n",
       "    </tr>\n",
       "    <tr>\n",
       "      <th>UGAGG_CCUAAG</th>\n",
       "      <td>-7.594015</td>\n",
       "      <td>-7.791326</td>\n",
       "      <td>-7.427833</td>\n",
       "      <td>8.0</td>\n",
       "      <td>G</td>\n",
       "      <td>9.0</td>\n",
       "      <td>A</td>\n",
       "      <td>True</td>\n",
       "      <td>0.437357</td>\n",
       "      <td>0.750661</td>\n",
       "      <td>1.188331</td>\n",
       "      <td>0.0002</td>\n",
       "      <td>3.0</td>\n",
       "      <td>8.0</td>\n",
       "      <td>G</td>\n",
       "      <td>9.0</td>\n",
       "      <td>A</td>\n",
       "      <td>True</td>\n",
       "      <td>0.007933</td>\n",
       "      <td>2.099997</td>\n",
       "    </tr>\n",
       "  </tbody>\n",
       "</table>\n",
       "</div>"
      ],
      "text/plain": [
       "                    dG     dG_lb     dG_ub  first_locleft first_resleft  \\\n",
       "seq                                                                       \n",
       "UUUGG_CCUAAG -8.082610 -8.234375 -7.931497            8.0             U   \n",
       "AAUGG_CCUGAG -7.880246 -8.109714 -7.673142            7.0             A   \n",
       "CAUGG_CCCAAG -7.661148 -8.072560 -7.393760            7.0             C   \n",
       "CAUGG_CCUACG -8.102398 -8.342931 -7.936836            7.0             C   \n",
       "GAAGG_CCUAAG -8.067047 -8.404907 -7.736011            7.0             G   \n",
       "GAUGG_CCCAAG -8.052844 -8.184042 -7.938880            7.0             G   \n",
       "GAUGG_CCUAAA -7.910030 -8.201719 -7.612669            7.0             G   \n",
       "GAUGG_CCUAGG -7.798525 -7.965565 -7.634277            7.0             G   \n",
       "UAAGG_CCUAAU -7.574488 -7.849846 -7.370796            9.0             A   \n",
       "UAAGG_CCUACG -8.017684 -8.169766 -7.827473            9.0             A   \n",
       "UACGG_CCUAGG -7.573430 -7.735503 -7.414848            9.0             C   \n",
       "UAGAG_CCUAAG -7.340633 -7.473130 -7.219928            9.0             G   \n",
       "UAGGG_CCUAAA -7.649841 -7.861432 -7.437441            9.0             G   \n",
       "UAUAG_CCUAUG -7.270238 -7.438285 -7.113889           10.0             A   \n",
       "UAUGC_CCUAAU -7.319884 -7.521055 -7.131450           11.0             C   \n",
       "UAUGG_CAGAAG -7.338482 -7.479878 -7.150002            2.0             A   \n",
       "UAUGG_CCCAAA -7.493254 -7.691755 -7.327316            3.0             C   \n",
       "UAUGG_CCCUAG -7.460789 -7.741646 -7.106195            3.0             C   \n",
       "UAUGG_CCGAAU -7.814794 -8.163410 -7.583945            3.0             G   \n",
       "UAUGG_CCUACU -7.427423 -7.604655 -7.257709            5.0             C   \n",
       "UAUGG_CCUCAA -7.687087 -7.832281 -7.549779            4.0             C   \n",
       "UAUGG_GGUAAG -7.345517 -7.547425 -7.114251            1.0             G   \n",
       "UCUGG_CCAAAG -7.859490 -8.064301 -7.677024            8.0             C   \n",
       "UCUGG_CCCAAG -8.068799 -8.194297 -7.952964            8.0             C   \n",
       "UCUGG_CCGAAG -7.857155 -8.064473 -7.674294            8.0             C   \n",
       "UCUGG_CCUAAC -7.197789 -7.388587 -7.021853            8.0             C   \n",
       "UGAGG_CCUAAG -7.594015 -7.791326 -7.427833            8.0             G   \n",
       "\n",
       "              second_locleft second_resleft limitleft  0.05_var  median_var  \\\n",
       "seq                                                                           \n",
       "UUUGG_CCUAAG             NaN            NaN     False  0.429140    0.635786   \n",
       "AAUGG_CCUGAG             4.0              G     False  0.259565    0.541874   \n",
       "CAUGG_CCCAAG             3.0              C     False  0.190531    0.402285   \n",
       "CAUGG_CCUACG             5.0              C     False  0.398224    0.594881   \n",
       "GAAGG_CCUAAG             9.0              A     False  0.585615    0.979564   \n",
       "GAUGG_CCCAAG             3.0              C     False  0.727015    0.949101   \n",
       "GAUGG_CCUAAA             6.0              A     False  0.232619    0.477920   \n",
       "GAUGG_CCUAGG             5.0              G     False  0.434884    0.619593   \n",
       "UAAGG_CCUAAU             6.0              U     False  0.477860    0.717773   \n",
       "UAAGG_CCUACG             5.0              C     False  0.540642    0.746387   \n",
       "UACGG_CCUAGG             5.0              G      True  0.570975    0.855546   \n",
       "UAGAG_CCUAAG            10.0              A      True  0.343585    0.614461   \n",
       "UAGGG_CCUAAA             6.0              A     False  0.418451    0.654228   \n",
       "UAUAG_CCUAUG             5.0              U      True  0.278518    0.523010   \n",
       "UAUGC_CCUAAU             6.0              U      True  0.215179    0.404304   \n",
       "UAUGG_CAGAAG             3.0              G      True  0.623802    1.063761   \n",
       "UAUGG_CCCAAA             6.0              A      True  0.173987    0.477301   \n",
       "UAUGG_CCCUAG             4.0              U     False  0.472271    0.745276   \n",
       "UAUGG_CCGAAU             6.0              U     False  0.488848    0.808438   \n",
       "UAUGG_CCUACU             6.0              U      True  0.455575    0.782056   \n",
       "UAUGG_CCUCAA             6.0              A      True  0.602563    0.896652   \n",
       "UAUGG_GGUAAG             2.0              G      True  0.246899    0.537753   \n",
       "UCUGG_CCAAAG             3.0              A     False  0.691369    0.978967   \n",
       "UCUGG_CCCAAG             3.0              C     False  0.882296    1.139173   \n",
       "UCUGG_CCGAAG             3.0              G     False  0.616745    0.844693   \n",
       "UCUGG_CCUAAC             6.0              C      True  0.153577    0.347969   \n",
       "UGAGG_CCUAAG             9.0              A      True  0.437357    0.750661   \n",
       "\n",
       "              0.95_var  p_val_var    n  first_loc first_res  second_loc  \\\n",
       "seq                                                                       \n",
       "UUUGG_CCUAAG  0.882335     0.0003  3.0        8.0         U         NaN   \n",
       "AAUGG_CCUGAG  0.879165     0.0024  4.0        7.0         A         4.0   \n",
       "CAUGG_CCCAAG  0.692312     0.0033  3.0        7.0         C         3.0   \n",
       "CAUGG_CCUACG  0.925338     0.0000  3.0        7.0         C         5.0   \n",
       "GAAGG_CCUAAG  1.770834     0.0007  4.0        7.0         G         9.0   \n",
       "GAUGG_CCCAAG  1.234243     0.0003  4.0        7.0         G         3.0   \n",
       "GAUGG_CCUAAA  0.815888     0.0036  4.0        7.0         G         6.0   \n",
       "GAUGG_CCUAGG  0.855753     0.0015  4.0        7.0         G         5.0   \n",
       "UAAGG_CCUAAU  0.990722     0.0015  3.0        9.0         A         6.0   \n",
       "UAAGG_CCUACG  1.015679     0.0008  4.0        9.0         A         5.0   \n",
       "UACGG_CCUAGG  1.204935     0.0003  3.0        9.0         C         5.0   \n",
       "UAGAG_CCUAAG  0.953346     0.0008  3.0        9.0         G        10.0   \n",
       "UAGGG_CCUAAA  0.976423     0.0016  4.0        9.0         G         6.0   \n",
       "UAUAG_CCUAUG  0.858676     0.0016  3.0       10.0         A         5.0   \n",
       "UAUGC_CCUAAU  0.675749     0.0042  4.0       11.0         C         6.0   \n",
       "UAUGG_CAGAAG  1.507657     0.0014  3.0        2.0         A         3.0   \n",
       "UAUGG_CCCAAA  0.843110     0.0038  3.0        3.0         C         6.0   \n",
       "UAUGG_CCCUAG  1.099717     0.0031  3.0        3.0         C         4.0   \n",
       "UAUGG_CCGAAU  1.233846     0.0011  4.0        3.0         G         6.0   \n",
       "UAUGG_CCUACU  1.154483     0.0001  3.0        5.0         C         6.0   \n",
       "UAUGG_CCUCAA  1.221773     0.0001  3.0        4.0         C         6.0   \n",
       "UAUGG_GGUAAG  0.984621     0.0015  3.0        1.0         G         2.0   \n",
       "UCUGG_CCAAAG  1.299858     0.0002  4.0        8.0         C         3.0   \n",
       "UCUGG_CCCAAG  1.436352     0.0001  4.0        8.0         C         3.0   \n",
       "UCUGG_CCGAAG  1.100663     0.0012  3.0        8.0         C         3.0   \n",
       "UCUGG_CCUAAC  0.614426     0.0045  3.0        8.0         C         6.0   \n",
       "UGAGG_CCUAAG  1.188331     0.0002  3.0        8.0         G         9.0   \n",
       "\n",
       "             second_res  limit  adj_p_val_var  nlogp_var  \n",
       "seq                                                       \n",
       "UUUGG_CCUAAG        NaN  False       0.007933   2.099997  \n",
       "AAUGG_CCUGAG          G  False       0.027200   1.565271  \n",
       "CAUGG_CCCAAG          C  False       0.034148   1.466510  \n",
       "CAUGG_CCUACG          C  False       0.000000   5.000000  \n",
       "GAAGG_CCUAAG          A  False       0.015867   1.799241  \n",
       "GAUGG_CCCAAG          C  False       0.007933   2.099997  \n",
       "GAUGG_CCUAAA          A  False       0.035700   1.447210  \n",
       "GAUGG_CCUAGG          G  False       0.019040   1.720105  \n",
       "UAAGG_CCUAAU          U  False       0.019040   1.720105  \n",
       "UAAGG_CCUACG          C  False       0.015867   1.799241  \n",
       "UACGG_CCUAGG          G   True       0.007933   2.099997  \n",
       "UAGAG_CCUAAG          A   True       0.015867   1.799241  \n",
       "UAGGG_CCUAAA          A  False       0.019040   1.720105  \n",
       "UAUAG_CCUAUG          U   True       0.019040   1.720105  \n",
       "UAUGC_CCUAAU          U   True       0.038446   1.415034  \n",
       "UAUGG_CAGAAG          G   True       0.019040   1.720105  \n",
       "UAUGG_CCCAAA          A   True       0.036176   1.441459  \n",
       "UAUGG_CCCUAG          U  False       0.033536   1.474355  \n",
       "UAUGG_CCGAAU          U  False       0.019040   1.720105  \n",
       "UAUGG_CCUACU          U   True       0.005950   2.224754  \n",
       "UAUGG_CCUCAA          A   True       0.005950   2.224754  \n",
       "UAUGG_GGUAAG          G   True       0.019040   1.720105  \n",
       "UCUGG_CCAAAG          A  False       0.007933   2.099997  \n",
       "UCUGG_CCCAAG          C  False       0.005950   2.224754  \n",
       "UCUGG_CCGAAG          G  False       0.019040   1.720105  \n",
       "UCUGG_CCUAAC          C   True       0.039667   1.401465  \n",
       "UGAGG_CCUAAG          A   True       0.007933   2.099997  "
      ]
     },
     "execution_count": 34,
     "metadata": {},
     "output_type": "execute_result"
    }
   ],
   "source": [
    "GUAA_combined_pvals.query('(adj_p_val_var < 0.05)')"
   ]
  },
  {
   "cell_type": "code",
   "execution_count": 35,
   "id": "23acc63f",
   "metadata": {
    "scrolled": true
   },
   "outputs": [
    {
     "name": "stderr",
     "output_type": "stream",
     "text": [
      "C:\\ProgramData\\Anaconda3\\lib\\site-packages\\numpy\\lib\\nanfunctions.py:993: RuntimeWarning: All-NaN slice encountered\n",
      "  result = np.apply_along_axis(_nanmedian1d, axis, a, overwrite_input)\n",
      "C:\\ProgramData\\Anaconda3\\lib\\site-packages\\numpy\\lib\\nanfunctions.py:993: RuntimeWarning: All-NaN slice encountered\n",
      "  result = np.apply_along_axis(_nanmedian1d, axis, a, overwrite_input)\n",
      "C:\\ProgramData\\Anaconda3\\lib\\site-packages\\numpy\\lib\\nanfunctions.py:993: RuntimeWarning: All-NaN slice encountered\n",
      "  result = np.apply_along_axis(_nanmedian1d, axis, a, overwrite_input)\n",
      "C:\\ProgramData\\Anaconda3\\lib\\site-packages\\numpy\\lib\\nanfunctions.py:993: RuntimeWarning: All-NaN slice encountered\n",
      "  result = np.apply_along_axis(_nanmedian1d, axis, a, overwrite_input)\n",
      "C:\\ProgramData\\Anaconda3\\lib\\site-packages\\numpy\\lib\\nanfunctions.py:993: RuntimeWarning: All-NaN slice encountered\n",
      "  result = np.apply_along_axis(_nanmedian1d, axis, a, overwrite_input)\n",
      "C:\\ProgramData\\Anaconda3\\lib\\site-packages\\numpy\\lib\\nanfunctions.py:993: RuntimeWarning: All-NaN slice encountered\n",
      "  result = np.apply_along_axis(_nanmedian1d, axis, a, overwrite_input)\n",
      "C:\\ProgramData\\Anaconda3\\lib\\site-packages\\numpy\\lib\\nanfunctions.py:993: RuntimeWarning: All-NaN slice encountered\n",
      "  result = np.apply_along_axis(_nanmedian1d, axis, a, overwrite_input)\n",
      "C:\\ProgramData\\Anaconda3\\lib\\site-packages\\numpy\\lib\\nanfunctions.py:993: RuntimeWarning: All-NaN slice encountered\n",
      "  result = np.apply_along_axis(_nanmedian1d, axis, a, overwrite_input)\n",
      "C:\\ProgramData\\Anaconda3\\lib\\site-packages\\numpy\\lib\\nanfunctions.py:993: RuntimeWarning: All-NaN slice encountered\n",
      "  result = np.apply_along_axis(_nanmedian1d, axis, a, overwrite_input)\n",
      "C:\\ProgramData\\Anaconda3\\lib\\site-packages\\numpy\\lib\\nanfunctions.py:993: RuntimeWarning: All-NaN slice encountered\n",
      "  result = np.apply_along_axis(_nanmedian1d, axis, a, overwrite_input)\n",
      "C:\\ProgramData\\Anaconda3\\lib\\site-packages\\numpy\\lib\\nanfunctions.py:993: RuntimeWarning: All-NaN slice encountered\n",
      "  result = np.apply_along_axis(_nanmedian1d, axis, a, overwrite_input)\n",
      "C:\\ProgramData\\Anaconda3\\lib\\site-packages\\numpy\\lib\\nanfunctions.py:993: RuntimeWarning: All-NaN slice encountered\n",
      "  result = np.apply_along_axis(_nanmedian1d, axis, a, overwrite_input)\n",
      "C:\\ProgramData\\Anaconda3\\lib\\site-packages\\numpy\\lib\\nanfunctions.py:993: RuntimeWarning: All-NaN slice encountered\n",
      "  result = np.apply_along_axis(_nanmedian1d, axis, a, overwrite_input)\n",
      "C:\\ProgramData\\Anaconda3\\lib\\site-packages\\numpy\\lib\\nanfunctions.py:993: RuntimeWarning: All-NaN slice encountered\n",
      "  result = np.apply_along_axis(_nanmedian1d, axis, a, overwrite_input)\n",
      "C:\\ProgramData\\Anaconda3\\lib\\site-packages\\numpy\\lib\\nanfunctions.py:993: RuntimeWarning: All-NaN slice encountered\n",
      "  result = np.apply_along_axis(_nanmedian1d, axis, a, overwrite_input)\n",
      "C:\\ProgramData\\Anaconda3\\lib\\site-packages\\numpy\\lib\\nanfunctions.py:993: RuntimeWarning: All-NaN slice encountered\n",
      "  result = np.apply_along_axis(_nanmedian1d, axis, a, overwrite_input)\n",
      "C:\\ProgramData\\Anaconda3\\lib\\site-packages\\numpy\\lib\\nanfunctions.py:993: RuntimeWarning: All-NaN slice encountered\n",
      "  result = np.apply_along_axis(_nanmedian1d, axis, a, overwrite_input)\n",
      "C:\\ProgramData\\Anaconda3\\lib\\site-packages\\numpy\\lib\\nanfunctions.py:993: RuntimeWarning: All-NaN slice encountered\n",
      "  result = np.apply_along_axis(_nanmedian1d, axis, a, overwrite_input)\n",
      "C:\\Users\\jshin\\AppData\\Local\\Temp\\ipykernel_14144\\2781249783.py:22: RuntimeWarning: More than 20 figures have been opened. Figures created through the pyplot interface (`matplotlib.pyplot.figure`) are retained until explicitly closed and may consume too much memory. (To control this warning, see the rcParam `figure.max_open_warning`).\n",
      "  fig,ax = plt.subplots()\n",
      "C:\\ProgramData\\Anaconda3\\lib\\site-packages\\numpy\\lib\\nanfunctions.py:993: RuntimeWarning: All-NaN slice encountered\n",
      "  result = np.apply_along_axis(_nanmedian1d, axis, a, overwrite_input)\n",
      "C:\\ProgramData\\Anaconda3\\lib\\site-packages\\numpy\\lib\\nanfunctions.py:993: RuntimeWarning: All-NaN slice encountered\n",
      "  result = np.apply_along_axis(_nanmedian1d, axis, a, overwrite_input)\n",
      "C:\\ProgramData\\Anaconda3\\lib\\site-packages\\numpy\\lib\\nanfunctions.py:993: RuntimeWarning: All-NaN slice encountered\n",
      "  result = np.apply_along_axis(_nanmedian1d, axis, a, overwrite_input)\n",
      "C:\\ProgramData\\Anaconda3\\lib\\site-packages\\numpy\\lib\\nanfunctions.py:993: RuntimeWarning: All-NaN slice encountered\n",
      "  result = np.apply_along_axis(_nanmedian1d, axis, a, overwrite_input)\n"
     ]
    },
    {
     "data": {
      "image/png": "[encoded data removed]",
      "text/plain": [
       "<Figure size 432x288 with 1 Axes>"
      ]
     },
     "metadata": {
      "needs_background": "light"
     },
     "output_type": "display_data"
    },
    {
     "data": {
      "image/png": "[encoded data removed]",
      "text/plain": [
       "<Figure size 432x288 with 1 Axes>"
      ]
     },
     "metadata": {
      "needs_background": "light"
     },
     "output_type": "display_data"
    },
    {
     "data": {
      "image/png": "[encoded data removed]",
      "text/plain": [
       "<Figure size 432x288 with 1 Axes>"
      ]
     },
     "metadata": {
      "needs_background": "light"
     },
     "output_type": "display_data"
    },
    {
     "data": {
      "image/png": "[encoded data removed]",
      "text/plain": [
       "<Figure size 432x288 with 1 Axes>"
      ]
     },
     "metadata": {
      "needs_background": "light"
     },
     "output_type": "display_data"
    },
    {
     "data": {
      "image/png": "[encoded data removed]",
      "text/plain": [
       "<Figure size 432x288 with 1 Axes>"
      ]
     },
     "metadata": {
      "needs_background": "light"
     },
     "output_type": "display_data"
    },
    {
     "data": {
      "image/png": "[encoded data removed]",
      "text/plain": [
       "<Figure size 432x288 with 1 Axes>"
      ]
     },
     "metadata": {
      "needs_background": "light"
     },
     "output_type": "display_data"
    },
    {
     "data": {
      "image/png": "[encoded data removed]",
      "text/plain": [
       "<Figure size 432x288 with 1 Axes>"
      ]
     },
     "metadata": {
      "needs_background": "light"
     },
     "output_type": "display_data"
    },
    {
     "data": {
      "image/png": "[encoded data removed]",
      "text/plain": [
       "<Figure size 432x288 with 1 Axes>"
      ]
     },
     "metadata": {
      "needs_background": "light"
     },
     "output_type": "display_data"
    },
    {
     "data": {
      "image/png": "[encoded data removed]",
      "text/plain": [
       "<Figure size 432x288 with 1 Axes>"
      ]
     },
     "metadata": {
      "needs_background": "light"
     },
     "output_type": "display_data"
    },
    {
     "data": {
      "image/png": "[encoded data removed]",
      "text/plain": [
       "<Figure size 432x288 with 1 Axes>"
      ]
     },
     "metadata": {
      "needs_background": "light"
     },
     "output_type": "display_data"
    },
    {
     "data": {
      "image/png": "[encoded data removed]",
      "text/plain": [
       "<Figure size 432x288 with 1 Axes>"
      ]
     },
     "metadata": {
      "needs_background": "light"
     },
     "output_type": "display_data"
    },
    {
     "data": {
      "image/png": "[encoded data removed]",
      "text/plain": [
       "<Figure size 432x288 with 1 Axes>"
      ]
     },
     "metadata": {
      "needs_background": "light"
     },
     "output_type": "display_data"
    },
    {
     "data": {
      "image/png": "[encoded data removed]",
      "text/plain": [
       "<Figure size 432x288 with 1 Axes>"
      ]
     },
     "metadata": {
      "needs_background": "light"
     },
     "output_type": "display_data"
    },
    {
     "data": {
      "image/png": "[encoded data removed]",
      "text/plain": [
       "<Figure size 432x288 with 1 Axes>"
      ]
     },
     "metadata": {
      "needs_background": "light"
     },
     "output_type": "display_data"
    },
    {
     "data": {
      "image/png": "[encoded data removed]",
      "text/plain": [
       "<Figure size 432x288 with 1 Axes>"
      ]
     },
     "metadata": {
      "needs_background": "light"
     },
     "output_type": "display_data"
    },
    {
     "data": {
      "image/png": "[encoded data removed]",
      "text/plain": [
       "<Figure size 432x288 with 1 Axes>"
      ]
     },
     "metadata": {
      "needs_background": "light"
     },
     "output_type": "display_data"
    },
    {
     "data": {
      "image/png": "[encoded data removed]",
      "text/plain": [
       "<Figure size 432x288 with 1 Axes>"
      ]
     },
     "metadata": {
      "needs_background": "light"
     },
     "output_type": "display_data"
    },
    {
     "data": {
      "image/png": "[encoded data removed]",
      "text/plain": [
       "<Figure size 432x288 with 1 Axes>"
      ]
     },
     "metadata": {
      "needs_background": "light"
     },
     "output_type": "display_data"
    },
    {
     "data": {
      "image/png": "[encoded data removed]",
      "text/plain": [
       "<Figure size 432x288 with 1 Axes>"
      ]
     },
     "metadata": {
      "needs_background": "light"
     },
     "output_type": "display_data"
    },
    {
     "data": {
      "image/png": "[encoded data removed]",
      "text/plain": [
       "<Figure size 432x288 with 1 Axes>"
      ]
     },
     "metadata": {
      "needs_background": "light"
     },
     "output_type": "display_data"
    },
    {
     "data": {
      "image/png": "[encoded data removed]",
      "text/plain": [
       "<Figure size 432x288 with 1 Axes>"
      ]
     },
     "metadata": {
      "needs_background": "light"
     },
     "output_type": "display_data"
    },
    {
     "data": {
      "image/png": "[encoded data removed]",
      "text/plain": [
       "<Figure size 432x288 with 1 Axes>"
      ]
     },
     "metadata": {
      "needs_background": "light"
     },
     "output_type": "display_data"
    },
    {
     "data": {
      "image/png": "[encoded data removed]",
      "text/plain": [
       "<Figure size 432x288 with 1 Axes>"
      ]
     },
     "metadata": {
      "needs_background": "light"
     },
     "output_type": "display_data"
    },
    {
     "data": {
      "image/png": "[encoded data removed]",
      "text/plain": [
       "<Figure size 432x288 with 1 Axes>"
      ]
     },
     "metadata": {
      "needs_background": "light"
     },
     "output_type": "display_data"
    },
    {
     "data": {
      "image/png": "[encoded data removed]",
      "text/plain": [
       "<Figure size 432x288 with 1 Axes>"
      ]
     },
     "metadata": {
      "needs_background": "light"
     },
     "output_type": "display_data"
    },
    {
     "data": {
      "image/png": "[encoded data removed]",
      "text/plain": [
       "<Figure size 432x288 with 1 Axes>"
      ]
     },
     "metadata": {
      "needs_background": "light"
     },
     "output_type": "display_data"
    },
    {
     "data": {
      "image/png": "[encoded data removed]",
      "text/plain": [
       "<Figure size 432x288 with 1 Axes>"
      ]
     },
     "metadata": {
      "needs_background": "light"
     },
     "output_type": "display_data"
    }
   ],
   "source": [
    "for row in GUAA_combined_pvals.query('(adj_p_val_var < 0.05)').iterrows():\n",
    "    seq = row[0]\n",
    "    \n",
    "    if np.isnan(row[1]['second_loc']):\n",
    "        pltVars(seq,GUAA_single_bs_df)\n",
    "    else:\n",
    "        pltVars(seq,GUAA_double_bs_df)\n",
    "    "
   ]
  },
  {
   "cell_type": "code",
   "execution_count": null,
   "id": "81fc5f9d",
   "metadata": {},
   "outputs": [],
   "source": []
  },
  {
   "cell_type": "code",
   "execution_count": null,
   "id": "7f953e64",
   "metadata": {},
   "outputs": [],
   "source": []
  },
  {
   "cell_type": "code",
   "execution_count": 36,
   "id": "69072fe4",
   "metadata": {},
   "outputs": [
    {
     "data": {
      "image/png": "[encoded data removed]",
      "text/plain": [
       "<Figure size 288x216 with 1 Axes>"
      ]
     },
     "metadata": {},
     "output_type": "display_data"
    }
   ],
   "source": [
    "fig,ax = plt.subplots(facecolor='w',figsize=(4,3))\n",
    "\n",
    "sns.scatterplot(data=GUAA_combined_pvals.query('adj_p_val_var >= 0.05'),x='dG',y='median_var',\n",
    "                hue='n',hue_order=[3,4,5],ax=ax,palette=['tab:blue','tab:orange','tab:green'],size='nlogp_var',\n",
    "               legend=False,alpha=0.3,size_norm=(0,1))\n",
    "\n",
    "sns.scatterplot(data=GUAA_combined_pvals.query('adj_p_val_var < 0.05'),x='dG',y='median_var',\n",
    "                hue='n',hue_order=[3,4,5],ax=ax,palette=['tab:blue','tab:orange','tab:green'],size='nlogp_var',\n",
    "               legend=False,alpha=.8,size_norm=(0,1),edgecolor='k')\n",
    "\n",
    "\n",
    "ax.plot([],[],'o',color='tab:blue',label='3, n = 77')\n",
    "ax.plot([],[],'o',color='tab:orange',label='4, n = 88')\n",
    "ax.plot([],[],'o',color='tab:green',label='5, n = 73')\n",
    "\n",
    "ax.set_xticks([-9,-8.5,-8,-7.5,-7])\n",
    "ax.set_xticklabels([-9,'',-8,'',-7])\n",
    "\n",
    "# ax.set_yticks([-1,-0.5,0,0.5,1])\n",
    "\n",
    "ax.set_ylabel(r'Median Variance',fontsize=14)\n",
    "ax.set_xlabel(r'$\\Delta G$ (kcal/mol)',fontsize=14)\n",
    "ax.legend(fontsize=8,title='# Scaffolds',framealpha=0.4,loc='center left', bbox_to_anchor=(1, 0.5))\n",
    "ax.set_title('Scaffold Effects for GUAA\\n',fontsize=10)\n",
    "\n",
    "plt.tight_layout()\n",
    "\n",
    "plt.savefig('Figures/Supplement/GUAA_scaffold.png',facecolor='white',dpi=600)\n",
    "\n",
    "plt.show()"
   ]
  },
  {
   "cell_type": "code",
   "execution_count": null,
   "id": "8b543829",
   "metadata": {},
   "outputs": [],
   "source": []
  },
  {
   "cell_type": "code",
   "execution_count": 37,
   "id": "5710e318",
   "metadata": {},
   "outputs": [
    {
     "data": {
      "image/png": "[encoded data removed]",
      "text/plain": [
       "<Figure size 288x216 with 2 Axes>"
      ]
     },
     "metadata": {
      "needs_background": "light"
     },
     "output_type": "display_data"
    }
   ],
   "source": [
    "fig,axs = plt.subplots(nrows=2,sharex=True,figsize=(4,3))\n",
    "\n",
    "plotFingerprints('UAUGG_CCUAAG','UAUGG_CCUAAG',\n",
    "                 GUAA_wt_bs_df.loc['UAUGG_CCUAAG'],\n",
    "                 GAAA_wt_bs_df.loc['UAUGG_CCUAAG'],\n",
    "                 axs = axs)\n",
    "\n",
    "axs[0].set_ylabel(r'$\\Delta G$',fontsize=14)\n",
    "axs[1].set_ylabel(r'$\\Delta\\Delta G$',fontsize=14)\n",
    "axs[1].set_xlabel(axs[1].get_xlabel(),fontsize=14)\n",
    "\n",
    "plt.tight_layout()\n",
    "plt.savefig('Figures/Supplement/GUAA_fingerprints.png',facecolor='white',dpi=600)\n",
    "\n",
    "plt.show()\n"
   ]
  },
  {
   "cell_type": "code",
   "execution_count": 38,
   "id": "32651fbc",
   "metadata": {},
   "outputs": [
    {
     "data": {
      "image/png": "[encoded data removed]",
      "text/plain": [
       "<Figure size 288x144 with 1 Axes>"
      ]
     },
     "metadata": {
      "needs_background": "light"
     },
     "output_type": "display_data"
    }
   ],
   "source": [
    "fig,ax = plt.subplots(figsize=(4,2))\n",
    "\n",
    "pltVars('UAUGG_CCUAAG',GUAA_wt_bs_df,ax=ax)\n",
    "\n",
    "ax.set_xlabel('Variance in $\\Delta G$ across scaffolds', fontsize=14)\n",
    "ax.set_ylabel('Count', fontsize=14)\n",
    "\n",
    "ax.legend(fontsize=14)\n",
    "ax.set_title('')\n",
    "plt.tight_layout()\n",
    "\n",
    "plt.savefig('Figures/Supplement/GUAA_variance.png',facecolor='white',dpi=600)\n",
    "\n",
    "plt.show()"
   ]
  },
  {
   "cell_type": "code",
   "execution_count": null,
   "id": "81e73099",
   "metadata": {},
   "outputs": [],
   "source": []
  },
  {
   "cell_type": "code",
   "execution_count": null,
   "id": "6ce0bee3",
   "metadata": {},
   "outputs": [],
   "source": []
  },
  {
   "cell_type": "code",
   "execution_count": 39,
   "id": "5e027b7f",
   "metadata": {},
   "outputs": [],
   "source": [
    "def fillHeatmap(df):\n",
    "    \n",
    "    colnames = df.columns.names\n",
    "    indexcolumns = set(df.index)|set(df.columns)\n",
    "    df[list(indexcolumns-set(df.columns))]=np.NaN\n",
    "    df = pd.concat([df,pd.DataFrame(index=list(indexcolumns-set(df.index)))])\n",
    "    df.columns.names = colnames\n",
    "    \n",
    "    return df"
   ]
  },
  {
   "cell_type": "code",
   "execution_count": 40,
   "id": "d66679e9",
   "metadata": {},
   "outputs": [],
   "source": [
    "heatmap_df = GUAA_combined_pvals.copy()\n",
    "heatmap_df['Significant'] = heatmap_df['adj_p_val_var'] < 0.05\n",
    "heatmap_df.loc[heatmap_df['n'] < 3,'Significant'] = 'Limit'\n",
    "heatmap_df = pd.pivot_table(heatmap_df,\n",
    "               columns=['second_loc','second_res'],\n",
    "               index=['first_loc','first_res'],\n",
    "               values='Significant',aggfunc=lambda s:s)\n",
    "\n",
    "heatmap_df = fillHeatmap(heatmap_df)\n",
    "heatmap_df = heatmap_df.sort_values(by=['second_loc','second_res'],axis=1).sort_values('first_loc',axis=0)\n"
   ]
  },
  {
   "cell_type": "code",
   "execution_count": 41,
   "id": "74785226",
   "metadata": {},
   "outputs": [],
   "source": [
    "for row in heatmap_df.iterrows():\n",
    "    for col in row[1].iteritems():\n",
    "        if pd.isna(col[1]):\n",
    "            heatmap_df.loc[row[0],col[0]] = heatmap_df.loc[col[0],row[0]]"
   ]
  },
  {
   "cell_type": "code",
   "execution_count": 42,
   "id": "d53cf1d3",
   "metadata": {},
   "outputs": [
    {
     "data": {
      "image/png": "[encoded data removed]",
      "text/plain": [
       "<Figure size 504x360 with 2 Axes>"
      ]
     },
     "metadata": {
      "needs_background": "light"
     },
     "output_type": "display_data"
    }
   ],
   "source": [
    "fig,ax = plt.subplots(figsize=(7,5))\n",
    "\n",
    "mask = np.triu(np.ones_like(np.zeros((11*3,11*3)), dtype=bool))\n",
    "# mask[mask==1] = np.NaN\n",
    "\n",
    "\n",
    "vmax = 1\n",
    "\n",
    "sns.heatmap(heatmap_df.replace({k:v for v,k in enumerate(['Limit',False,True])}),\n",
    "            cmap=['grey','green','red'],mask=mask,\n",
    "           linecolor='white',linewidth=0.5)\n",
    "\n",
    "\n",
    "mask = np.tril(np.ones(33))\n",
    "mask[mask==1] = np.NaN\n",
    "sns.heatmap(mask,cbar=False,cmap='Greys',zorder=10)\n",
    "\n",
    "ax.set_aspect(1)\n",
    "\n",
    "ax.hlines(np.arange(1,11)*3,*ax.get_xlim(),'k')\n",
    "ax.vlines(np.arange(1,11)*3,*ax.get_ylim(),'k')\n",
    "\n",
    "ax.set_yticks(ax.get_yticks())\n",
    "ax.set_yticklabels(ax.get_yticklabels(),rotation=0,fontsize=14)\n",
    "ax.set_xticklabels(ax.get_xticklabels(),fontsize=14)\n",
    "\n",
    "\n",
    "ax.set_yticks(np.arange(33))\n",
    "ax.set_xticks(np.arange(33))\n",
    "ax.set_yticklabels([f\"{int(idx[0])}-{idx[1]}\" for idx in list(heatmap_df.index)],fontsize=6)\n",
    "ax.set_xticklabels([f\"{int(idx[0])}-{idx[1]}\" for idx in list(heatmap_df.index)],fontsize=6)\n",
    "\n",
    "\n",
    "ax.collections[0].colorbar.set_label('')\n",
    "ax.collections[0].colorbar.set_ticks([0.333,1,1.666])\n",
    "ax.collections[0].colorbar.set_ticklabels(['Not\\nEnough\\nData','No\\nSignificant\\nEffect','Significant\\nEffect'],\n",
    "                                         rotation=0,fontsize=12,va='center')\n",
    "\n",
    "\n",
    "ax.set_xlabel('First Mutation',fontsize=16)\n",
    "ax.set_ylabel('Second Mutation',fontsize=16)\n",
    "\n",
    "plt.tight_layout()\n",
    "\n",
    "plt.savefig('Figures/Supplement/GUAA_scaffold_heatmap.png',facecolor='white',dpi=600)\n",
    "\n",
    "plt.show()"
   ]
  },
  {
   "cell_type": "code",
   "execution_count": null,
   "id": "70b83e81",
   "metadata": {},
   "outputs": [],
   "source": []
  }
 ],
 "metadata": {
  "kernelspec": {
   "display_name": "Python 3 (ipykernel)",
   "language": "python",
   "name": "python3"
  },
  "language_info": {
   "codemirror_mode": {
    "name": "ipython",
    "version": 3
   },
   "file_extension": ".py",
   "mimetype": "text/x-python",
   "name": "python",
   "nbconvert_exporter": "python",
   "pygments_lexer": "ipython3",
   "version": "3.8.12"
  }
 },
 "nbformat": 4,
 "nbformat_minor": 5
}
